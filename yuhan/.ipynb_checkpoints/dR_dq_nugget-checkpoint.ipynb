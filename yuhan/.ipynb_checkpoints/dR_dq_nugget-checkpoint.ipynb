{
 "cells": [
  {
   "cell_type": "code",
   "execution_count": 48,
   "metadata": {},
   "outputs": [],
   "source": [
    "import sys, os\n",
    "import numpy as np\n",
    "\n",
    "from scipy.optimize import minimize_scalar, newton\n",
    "from scipy.integrate import quad\n",
    "import scipy.signal as sig\n",
    "from scipy.special import erf\n",
    "from scipy.interpolate import CubicSpline\n",
    "\n",
    "import matplotlib.pyplot as plt\n",
    "import matplotlib.colors as colors\n",
    "import matplotlib.cm as cmx"
   ]
  },
  {
   "cell_type": "markdown",
   "metadata": {},
   "source": [
    "*Note.* For concreteness, we calculate the differential rate $dR/dq$ for a fixed DM mass, coupling, and mediator mass."
   ]
  },
  {
   "cell_type": "markdown",
   "metadata": {},
   "source": [
    "## Parameters"
   ]
  },
  {
   "cell_type": "code",
   "execution_count": 3,
   "metadata": {},
   "outputs": [],
   "source": [
    "hbarc = 0.2     # eV um\n",
    "rho_T = 2.0e3   # Sphere density, kg/m^3\n",
    "mAMU = 1.66e-27 # Neutron mass"
   ]
  },
  {
   "cell_type": "markdown",
   "metadata": {},
   "source": [
    "### Experiment parameters"
   ]
  },
  {
   "cell_type": "code",
   "execution_count": 4,
   "metadata": {},
   "outputs": [],
   "source": [
    "R_um = 5          # Sphere radius, um\n",
    "R = R_um / hbarc  # Radius in natural units, eV^-1\n",
    "\n",
    "N_T = 0.5 * ( 4/3 * np.pi * (R_um*1e-6)**3) * rho_T/mAMU # Number of neutrons\n",
    "res = 170e6       # detector resolution in eV\n",
    "\n",
    "q_thr = 0.05e9    # momentum threshold, eV"
   ]
  },
  {
   "cell_type": "markdown",
   "metadata": {},
   "source": [
    "### DM parameters"
   ]
  },
  {
   "cell_type": "code",
   "execution_count": 5,
   "metadata": {},
   "outputs": [],
   "source": [
    "M_X_in = 5e3         # GeV\n",
    "alpha_n_in = 1e-8    # Gev\n",
    "m_phi = 0.0001       # Mediator mass, eV"
   ]
  },
  {
   "cell_type": "code",
   "execution_count": 6,
   "metadata": {},
   "outputs": [],
   "source": [
    "M_X = M_X_in * 1e9   # Dark matter nugget mass, eV (assumes mass in GeV given on command line)\n",
    "m_chi = 0.01 * 1e9   # eV\n",
    "N_chi = M_X / m_chi  # Number of dark matter particles in the nugget\n",
    "\n",
    "rhoDM = 0.3e9        # dark matter mass density, eV/cm^3\n",
    "\n",
    "alpha_n = alpha_n_in # Dimensionless single neutron-nugget coupling\n",
    "alpha = alpha_n * N_T # Coupling of the entire sphere\n",
    "mR = m_phi * R        # (= R/lambda), a useful length scale; now defiend in `vtot()`"
   ]
  },
  {
   "cell_type": "markdown",
   "metadata": {},
   "source": [
    "Some parameters related to DM velocity distribution."
   ]
  },
  {
   "cell_type": "code",
   "execution_count": 7,
   "metadata": {},
   "outputs": [],
   "source": [
    "vmin = 5e-5      # minimum velocity to consider, natural units (c)\n",
    "vesc = 1.815e-3  # galactic escape velocity\n",
    "v0 = 7.34e-4     # v0 parameter from Zurek group paper\n",
    "ve = 8.172e-4    # ve parameter from Zurek group paper"
   ]
  },
  {
   "cell_type": "markdown",
   "metadata": {},
   "source": [
    "## Defining functions"
   ]
  },
  {
   "cell_type": "markdown",
   "metadata": {},
   "source": [
    "### Yukawa potential"
   ]
  },
  {
   "cell_type": "code",
   "execution_count": 10,
   "metadata": {},
   "outputs": [],
   "source": [
    "def vtot_func(u, m_phi=m_phi, alpha=alpha):\n",
    "    \"\"\"Exact Yukawa potential for a uniform density sphere\n",
    "    \n",
    "    Parameters\n",
    "    ----------\n",
    "    u : float\n",
    "        Distance inverse 1/r in eV\n",
    "    m_phi : float\n",
    "        Mediator mass in eV\n",
    "    alpha : float\n",
    "        Dimensionless DM coupling to the sphere\n",
    "        \n",
    "    Returns\n",
    "    -------\n",
    "    float\n",
    "        Potential V(u) in eV\n",
    "    \"\"\"\n",
    "    mR = m_phi * R\n",
    "    \n",
    "    # Devide the array of u=1/r into three cases\n",
    "    if (u < 1e-10) : return np.inf\n",
    "    if (u < 1/R):  # outside\n",
    "        return 3 * alpha/mR**3 * (mR * np.cosh(mR) - np.sinh(mR)) * np.exp(-m_phi/u) * u\n",
    "    else:          # inside\n",
    "        return 3 * alpha/mR**3 * (m_phi - u*(1 + mR)/(1+1./np.tanh(mR)) * (np.sinh(m_phi/u)/np.sinh(mR)))"
   ]
  },
  {
   "cell_type": "code",
   "execution_count": 11,
   "metadata": {},
   "outputs": [],
   "source": [
    "def vtot(u, m_phi=m_phi, alpha=alpha):\n",
    "    \"\"\"Exact Yukawa potential for a uniform density sphere\n",
    "    \n",
    "    Parameters\n",
    "    ----------\n",
    "    u : float, array-like\n",
    "        Distance inverse 1/r in eV\n",
    "    m_phi : float\n",
    "        Mediator mass in eV\n",
    "    alpha : float\n",
    "        Dimensionless DM coupling to the sphere\n",
    "        \n",
    "    Returns\n",
    "    -------\n",
    "    float, array-like\n",
    "        Potential V(u) for each u in eV\n",
    "    \"\"\"\n",
    "    mR = m_phi * R\n",
    "    \n",
    "    u = np.asarray(u)\n",
    "    ret = np.empty_like(u)\n",
    "    \n",
    "    # Devide the array of u=1/r into three cases\n",
    "    neg     = (u <= 0)   # ill-defined\n",
    "    outside = (u < 1/R)  # ouside sphere\n",
    "    inside  = (u >= 1/R) # inside sphere\n",
    "    \n",
    "    ret[neg] = np.inf\n",
    "    \n",
    "    if(mR > 0):   # massive mediator\n",
    "        ret[outside] = 3 * alpha/mR**3 * (mR * np.cosh(mR) - np.sinh(mR)) * np.exp(-m_phi/u[outside]) * u[outside]\n",
    "        ret[inside] = 3 * alpha/mR**3 * (m_phi - u[inside]*(1 + mR)/(1+1./np.tanh(mR)) * (np.sinh(m_phi/u[inside])/np.sinh(mR)))\n",
    "        \n",
    "    else:         # massless mediator (alpha/r)\n",
    "        ret[outside] = alpha * u[outside]\n",
    "        ret[inside] = alpha/2 * (3/R - 1./(R**3 * u[inside]**2))\n",
    "\n",
    "    return ret"
   ]
  },
  {
   "cell_type": "code",
   "execution_count": 12,
   "metadata": {},
   "outputs": [
    {
     "data": {
      "text/plain": [
       "Text(0, 0.5, 'v(r)')"
      ]
     },
     "execution_count": 12,
     "metadata": {},
     "output_type": "execute_result"
    },
    {
     "data": {
      "image/png": "[encoded data removed]",
      "text/plain": [
       "<Figure size 432x288 with 1 Axes>"
      ]
     },
     "metadata": {
      "needs_background": "light"
     },
     "output_type": "display_data"
    }
   ],
   "source": [
    "# Plotting the potential\n",
    "r_um = np.linspace(1e-8, 100, 200)\n",
    "r = r_um / hbarc # convert to eV\n",
    "\n",
    "plt.plot(r_um, vtot(1/r, m_phi=0), label='$m_\\phi$ = 0 $eV$')\n",
    "plt.plot(r_um, vtot(1/r, m_phi=0.001), label='$m_\\phi$ = 0.001 $eV$')\n",
    "plt.plot(r_um, vtot(1/r, m_phi=0.01), label='$m_\\phi$ = 0.01 $eV$')\n",
    "plt.plot(r_um, vtot(1/r, m_phi=0.1), label='$m_\\phi$ = 0.1 $eV$')\n",
    "\n",
    "plt.title(fr'$m_\\chi$ = {M_X_in} GeV, $\\alpha$ = {alpha:.2f}')\n",
    "plt.legend(frameon=False)\n",
    "plt.xlabel('r (um)')\n",
    "plt.ylabel('v(r)')"
   ]
  },
  {
   "cell_type": "markdown",
   "metadata": {},
   "source": [
    "### Other functions (not organized yet)"
   ]
  },
  {
   "cell_type": "code",
   "execution_count": 13,
   "metadata": {},
   "outputs": [],
   "source": [
    "def get_color_map(n):\n",
    "    jet = plt.get_cmap('jet') \n",
    "    cNorm  = colors.Normalize(vmin=0, vmax=n-1)\n",
    "    scalarMap = cmx.ScalarMappable(norm=cNorm, cmap=jet)\n",
    "    outmap = []\n",
    "    for i in range(n):\n",
    "        outmap.append( scalarMap.to_rgba(i) )\n",
    "    return outmap\n",
    "\n",
    "## function used to smear the spectrum with gaussian resolution\n",
    "def res_fun( x, sig ):\n",
    "    return 1.0/(sig * np.sqrt(2*np.pi)) * np.exp(-0.5*(x/sig)**2)"
   ]
  },
  {
   "cell_type": "markdown",
   "metadata": {},
   "source": [
    "## Calculate the differential cross section $\\frac{d\\sigma}{dq}$"
   ]
  },
  {
   "cell_type": "markdown",
   "metadata": {},
   "source": [
    "We calculate the cross section for a single dark matter velocity $v$, and then integrate over the dark matter velocity distribution later."
   ]
  },
  {
   "cell_type": "code",
   "execution_count": 14,
   "metadata": {},
   "outputs": [],
   "source": [
    "nvels = 2000      # number of velocities to include in integration\n",
    "vlist = np.linspace(vmin, vesc, nvels)\n",
    "\n",
    "pmax = np.max((vesc * M_X, 10e9))\n",
    "#cmap = get_color_map(nvels)"
   ]
  },
  {
   "cell_type": "code",
   "execution_count": 15,
   "metadata": {},
   "outputs": [],
   "source": [
    "v = vlist[0]"
   ]
  },
  {
   "cell_type": "markdown",
   "metadata": {},
   "source": [
    "Make a list of impact parameters over which to calculate the scattering angle"
   ]
  },
  {
   "cell_type": "code",
   "execution_count": 16,
   "metadata": {},
   "outputs": [],
   "source": [
    "if(m_phi > 0):\n",
    "    b_um = np.logspace(-3, 3, 2000)\n",
    "else:\n",
    "    b_um = np.logspace(-3, 5, 2000)"
   ]
  },
  {
   "cell_type": "code",
   "execution_count": 17,
   "metadata": {},
   "outputs": [],
   "source": [
    "p = M_X * v            # DM initial momentum (eV)\n",
    "E = 1./2 * M_X * v**2  # Initial kinetic energy of incoming particle\n",
    "\n",
    "b = b_um / hbarc       # Impact factor (eV^-1)"
   ]
  },
  {
   "cell_type": "markdown",
   "metadata": {},
   "source": [
    "### Distance of closest approach"
   ]
  },
  {
   "cell_type": "markdown",
   "metadata": {},
   "source": [
    "Calculate the distance of shortest approach (maximum $u$) for each impact parameter $b$. This would be the upper limit when integrating over $u$ to get the scattering angle for each $b$."
   ]
  },
  {
   "cell_type": "markdown",
   "metadata": {},
   "source": [
    "Maximum $u$ can be found by solving the equation\n",
    "$$\n",
    "    1 - b^2 u^2_\\text{max} - \\frac{V(u_\\text{max})}{E_\\text{cm}} = 0.\n",
    "$$"
   ]
  },
  {
   "cell_type": "markdown",
   "metadata": {},
   "source": [
    "There is an analytic formula in Dave's code but it's unclear to me whether it's correct. It seems like it's the first-order \"perturbative\" solution assuming $r = 1/u \\approx b$."
   ]
  },
  {
   "cell_type": "code",
   "execution_count": 16,
   "metadata": {},
   "outputs": [],
   "source": [
    "def max_u_analytic(E, b, m_phi=m_phi, alpha=alpha):\n",
    "    \"\"\"Maximum u (minimum r) during the scattering from analytic formua\n",
    "    \n",
    "    Parameters\n",
    "    ----------\n",
    "    E : float, array-like\n",
    "        CM energy in eV\n",
    "    b : float, array-like\n",
    "        Impact parameter in eV^-1\n",
    "        \n",
    "    Returns\n",
    "    -------\n",
    "    m * n array\n",
    "        Max u value. m = dim(E), n = dim(b)\n",
    "    \"\"\"\n",
    "    mR = m_phi * R\n",
    "    \n",
    "    E, b = np.asarray(E), np.asarray(b)\n",
    "    EE, bb = np.meshgrid(E, b)\n",
    "    \n",
    "    min_r = np.empty_like(EE)\n",
    "    \n",
    "    inside  = (bb < R)\n",
    "    outside = (bb >= R)\n",
    "    \n",
    "    # TODO\n",
    "    # It seems like the formula breaks down when E is relatively small\n",
    "    if mR > 0:  # massive mediator\n",
    "        min_r[inside]  = bb[inside] * np.sqrt(EE[inside]) / np.sqrt(EE[inside] - ((3*alpha)/(mR**3)*(m_phi - ((1 + mR)*np.sinh(m_phi*bb[inside])/np.sinh(mR))/(bb[inside]*(1+1/np.tanh(mR))))))\n",
    "        min_r[outside] = bb[outside] * np.sqrt(EE[outside]) / np.sqrt(EE[outside] - (3*alpha*np.exp(-m_phi*bb[outside]))/(bb[outside] * mR**3) * (mR*np.cosh(mR)-np.sinh(mR)))\n",
    "    else:       # massless mediator TODO\n",
    "        pass\n",
    "    \n",
    "    return 1. / min_r"
   ]
  },
  {
   "cell_type": "markdown",
   "metadata": {},
   "source": [
    "Alternatively, we can numerically solve the equation:"
   ]
  },
  {
   "cell_type": "code",
   "execution_count": 38,
   "metadata": {},
   "outputs": [],
   "source": [
    "def max_u_func(u, b, E):\n",
    "    return 1 - (b*u)**2 - vtot(u) / E\n",
    "\n",
    "def max_u_numerical(E, b, m_phi=m_phi, alpha=alpha):    \n",
    "    \"\"\"Numerical solution of maximum u during the scattering\n",
    "    \n",
    "    Parameters\n",
    "    ----------\n",
    "    E : float\n",
    "        CM energy in eV\n",
    "    b : float, array-like\n",
    "        Impact parameter in eV^-1\n",
    "        \n",
    "    Returns\n",
    "    -------\n",
    "    1 * n array\n",
    "        Max u value. n = dim(b)\n",
    "    \"\"\"\n",
    "    max_u = newton(max_u_func, x0=b, args=(b,E))\n",
    "    return max_u"
   ]
  },
  {
   "cell_type": "markdown",
   "metadata": {},
   "source": [
    "Comparing the two approches, they differ when $b$ is small. It makes sense to me to use the numerical solution."
   ]
  },
  {
   "cell_type": "code",
   "execution_count": 18,
   "metadata": {
    "scrolled": false
   },
   "outputs": [
    {
     "name": "stderr",
     "output_type": "stream",
     "text": [
      "C:\\Users\\yuhan\\AppData\\Local\\Temp\\ipykernel_43948\\1436004733.py:29: RuntimeWarning: invalid value encountered in sqrt\n",
      "  min_r[inside]  = bb[inside] * np.sqrt(EE[inside]) / np.sqrt(EE[inside] - ((3*alpha)/(mR**3)*(m_phi - ((1 + mR)*np.sinh(m_phi*bb[inside])/np.sinh(mR))/(bb[inside]*(1+1/np.tanh(mR))))))\n",
      "C:\\Users\\yuhan\\AppData\\Local\\Temp\\ipykernel_43948\\1436004733.py:30: RuntimeWarning: invalid value encountered in sqrt\n",
      "  min_r[outside] = bb[outside] * np.sqrt(EE[outside]) / np.sqrt(EE[outside] - (3*alpha*np.exp(-m_phi*bb[outside]))/(bb[outside] * mR**3) * (mR*np.cosh(mR)-np.sinh(mR)))\n"
     ]
    },
    {
     "data": {
      "text/plain": [
       "<matplotlib.legend.Legend at 0x1ea4b5ba740>"
      ]
     },
     "execution_count": 18,
     "metadata": {},
     "output_type": "execute_result"
    },
    {
     "data": {
      "image/png": "[encoded data removed]",
      "text/plain": [
       "<Figure size 432x288 with 1 Axes>"
      ]
     },
     "metadata": {
      "needs_background": "light"
     },
     "output_type": "display_data"
    }
   ],
   "source": [
    "plt.plot(b*hbarc, max_u_analytic(E, b)*hbarc, label='\"Analytic\"')\n",
    "plt.plot(b*hbarc, max_u_numerical(E, b)*hbarc, label='Numerical')\n",
    "\n",
    "plt.title(fr'$E$ = {E:.2f} eV')\n",
    "plt.xlabel('b (um)')\n",
    "plt.ylabel('Max u (um)')\n",
    "plt.legend(frameon=False)"
   ]
  },
  {
   "cell_type": "code",
   "execution_count": 19,
   "metadata": {},
   "outputs": [],
   "source": [
    "max_u = max_u_numerical(E, b)"
   ]
  },
  {
   "cell_type": "markdown",
   "metadata": {},
   "source": [
    "### Integrate for scattering angle"
   ]
  },
  {
   "cell_type": "markdown",
   "metadata": {},
   "source": [
    "To calculate the scattering angle $\\Theta$ as a function of DM energy $E$ and impact parameter $b$, we will use the following formula\n",
    "$$\n",
    "\\begin{aligned}\n",
    "    \\Psi(b) &= \\int_{r_\\text{min}}^\\infty \\frac{(b/r^2) dr}{\\sqrt{(1 - V(r)/E_\\text{cm} - b^2/r^2)}} \\\\\n",
    "              &= \\int_0^{u_\\text{max}} \\frac{b du}{\\sqrt{(1 - V(u)/E_\\text{cm} - b^2u^2)}},\n",
    "\\end{aligned}\n",
    "$$\n",
    "where $\\Psi$ is the change of angle when moving through the central force field and $E_\\text{cm}$ is the total energy in the CM frame (equals to DM kinetic energy).\n",
    "\n",
    "The scattering angle is\n",
    "$$\n",
    "    \\Theta(b) = \\pi - 2 \\cdot \\Psi(b).\n",
    "$$\n",
    "This is actually the scattering angle in the CM frame, but we assume the sphere is very heavy so it's the same as $\\theta$, the scattering angle in the lab frame.\n",
    "\n",
    "To summarize, for a fix kinetic energy (so a fix velocity), this function calculate the scattering angle $\\theta(b)$ as a function of the impact parameter $b$."
   ]
  },
  {
   "cell_type": "code",
   "execution_count": 40,
   "metadata": {},
   "outputs": [],
   "source": [
    "from scipy.integrate import quad_vec\n",
    "\n",
    "def integrand(u, E, _b):\n",
    "    \"\"\"\n",
    "    Integrand for scattering angle calculation\n",
    "    \n",
    "    Parameters\n",
    "    ----------\n",
    "    u : float\n",
    "    E : float\n",
    "        CM energy in eV\n",
    "    _b : float\n",
    "        Impact parameter in eV^-1\n",
    "        \n",
    "    Returns\n",
    "    -------\n",
    "    float\n",
    "        Max u value.\n",
    "    \n",
    "    \"\"\"    \n",
    "    sval = 1 - vtot_func(u)/E - (_b*u)**2\n",
    "    if sval < 1e-10:  # cut off bad values that should be zero\n",
    "        sval= np.inf\n",
    "\n",
    "    integ = _b / np.sqrt(sval)\n",
    "    return integ"
   ]
  },
  {
   "cell_type": "markdown",
   "metadata": {},
   "source": [
    "Check the behavior of the integrand for a certain impact parameter (the integrand seems to hit numerical issues when approaching umax, so we manually set unreasonable numbers to zero, that's why the integrand goes to zero at max $u$)."
   ]
  },
  {
   "cell_type": "code",
   "execution_count": 21,
   "metadata": {
    "scrolled": true
   },
   "outputs": [
    {
     "data": {
      "image/png": "[encoded data removed]",
      "text/plain": [
       "<Figure size 432x288 with 1 Axes>"
      ]
     },
     "metadata": {
      "needs_background": "light"
     },
     "output_type": "display_data"
    }
   ],
   "source": [
    "idx = [0]\n",
    "for i in idx:\n",
    "    _b = b[i]\n",
    "    umax = max_u[i]\n",
    "    \n",
    "    ulist = np.linspace(0, umax, 2000)\n",
    "    integ = np.empty_like(ulist)\n",
    "    for i, u in enumerate(ulist):\n",
    "        integ[i] = integrand(u, E, _b)\n",
    "    plt.plot(ulist, integ)\n",
    "    plt.xlabel('u')\n",
    "    plt.ylabel('Integrand')"
   ]
  },
  {
   "cell_type": "code",
   "execution_count": 22,
   "metadata": {},
   "outputs": [],
   "source": [
    "Psi = np.empty_like(b)\n",
    "for i, _b in enumerate(b):\n",
    "    umax = max_u[i]\n",
    "    _b = b[i]\n",
    "    Psi[i] = quad(integrand, 0, umax, args=(E, _b))[0]"
   ]
  },
  {
   "cell_type": "code",
   "execution_count": 23,
   "metadata": {},
   "outputs": [],
   "source": [
    "theta = np.pi - 2 * Psi"
   ]
  },
  {
   "cell_type": "code",
   "execution_count": 24,
   "metadata": {
    "scrolled": false
   },
   "outputs": [
    {
     "data": {
      "text/plain": [
       "Text(0, 0.5, '$\\\\theta(b)$')"
      ]
     },
     "execution_count": 24,
     "metadata": {},
     "output_type": "execute_result"
    },
    {
     "data": {
      "image/png": "[encoded data removed]",
      "text/plain": [
       "<Figure size 432x288 with 1 Axes>"
      ]
     },
     "metadata": {
      "needs_background": "light"
     },
     "output_type": "display_data"
    }
   ],
   "source": [
    "plt.plot(b*hbarc, theta)\n",
    "plt.xlabel('b (um)')\n",
    "plt.ylabel(r'$\\theta(b)$')"
   ]
  },
  {
   "cell_type": "markdown",
   "metadata": {},
   "source": [
    "Check the result with Dave's code"
   ]
  },
  {
   "cell_type": "code",
   "execution_count": 25,
   "metadata": {},
   "outputs": [
    {
     "name": "stderr",
     "output_type": "stream",
     "text": [
      "C:\\Users\\yuhan\\AppData\\Local\\Temp\\ipykernel_43948\\895003642.py:64: IntegrationWarning: The algorithm does not converge.  Roundoff error is detected\n",
      "  in the extrapolation table.  It is assumed that the requested tolerance\n",
      "  cannot be achieved, and that the returned result (if full_output = 1) is \n",
      "  the best which can be obtained.\n",
      "  int_res1_check = quad(integ_out, 0, min_u, args=(b,E))\n",
      "C:\\Users\\yuhan\\AppData\\Local\\Temp\\ipykernel_43948\\895003642.py:59: IntegrationWarning: The algorithm does not converge.  Roundoff error is detected\n",
      "  in the extrapolation table.  It is assumed that the requested tolerance\n",
      "  cannot be achieved, and that the returned result (if full_output = 1) is \n",
      "  the best which can be obtained.\n",
      "  int_res2 = quad(integ, min_u*0.9, min_u, args=(b,E)) #, limit=1000, full_output=1)\n",
      "C:\\Users\\yuhan\\AppData\\Local\\Temp\\ipykernel_43948\\895003642.py:59: IntegrationWarning: Extremely bad integrand behavior occurs at some points of the\n",
      "  integration interval.\n",
      "  int_res2 = quad(integ, min_u*0.9, min_u, args=(b,E)) #, limit=1000, full_output=1)\n",
      "C:\\Users\\yuhan\\AppData\\Local\\Temp\\ipykernel_43948\\895003642.py:36: RuntimeWarning: invalid value encountered in sqrt\n",
      "  return b/np.sqrt(1 - sval/E - (b*u)**2)\n",
      "C:\\Users\\yuhan\\AppData\\Local\\Temp\\ipykernel_43948\\895003642.py:64: IntegrationWarning: The occurrence of roundoff error is detected, which prevents \n",
      "  the requested tolerance from being achieved.  The error may be \n",
      "  underestimated.\n",
      "  int_res1_check = quad(integ_out, 0, min_u, args=(b,E))\n",
      "C:\\Users\\yuhan\\AppData\\Local\\Temp\\ipykernel_43948\\895003642.py:59: IntegrationWarning: The maximum number of subdivisions (50) has been achieved.\n",
      "  If increasing the limit yields no improvement it is advised to analyze \n",
      "  the integrand in order to determine the difficulties.  If the position of a \n",
      "  local difficulty can be determined (singularity, discontinuity) one will \n",
      "  probably gain from splitting up the interval and calling the integrator \n",
      "  on the subranges.  Perhaps a special-purpose integrator should be used.\n",
      "  int_res2 = quad(integ, min_u*0.9, min_u, args=(b,E)) #, limit=1000, full_output=1)\n"
     ]
    }
   ],
   "source": [
    "bvec = b\n",
    "Psi_dave = np.empty_like(b)\n",
    "\n",
    "def vtot_dave(u):\n",
    "    if(u <= 0):\n",
    "        return np.inf\n",
    "    elif(u < 1/R):\n",
    "        if(mR > 0):\n",
    "            return 3*alpha/mR**3 * (mR * np.cosh(mR) - np.sinh(mR)) * np.exp(-m_phi/u) * u\n",
    "        else:\n",
    "            return alpha * u\n",
    "    else:\n",
    "        if(mR > 0):\n",
    "            return 3*alpha/mR**3 * (m_phi - u*(1 + mR)/(1+1./np.tanh(mR)) * (np.sinh(m_phi/u)/np.sinh(mR)))\n",
    "        else:\n",
    "            return alpha/2 * (3/R - 1./(R**3 * u**2)) \n",
    "        \n",
    "## integrand needed for finding the scattering angle as a function of impact parameter\n",
    "def integ(u, b, E):\n",
    "    sval = 1 - vtot_dave(u)/E - (b*u)**2\n",
    "    #print(u,b,E,vtot(u)/E, b*u, sval)\n",
    "    if(sval >= 0):\n",
    "        integ = b/np.sqrt(sval)\n",
    "    else:\n",
    "        integ = 0\n",
    "    return integ\n",
    "\n",
    "def integ_out(u, b, E):\n",
    "    if(u <= 0):\n",
    "        sval = 0\n",
    "    else:\n",
    "        if(mR > 0):\n",
    "            sval = 3*alpha/mR**3 * (mR * np.cosh(mR) - np.sinh(mR)) * np.exp(-m_phi/u) * u\n",
    "        else:\n",
    "            sval = alpha * u\n",
    "    return b/np.sqrt(1 - sval/E - (b*u)**2)\n",
    "\n",
    "def integ_in(u, b, E):\n",
    "    if(u <= 0):\n",
    "        sval = 0\n",
    "    else:\n",
    "        if(mR > 0):\n",
    "            sval = 3*alpha/mR**3 * (m_phi - u*(1 + mR)/(1+1./np.tanh(mR)) * (np.sinh(m_phi/u)/np.sinh(mR)))\n",
    "        else:\n",
    "            sval = alpha/2 * (3/R - 1./(R**3 * u**2))\n",
    "    return b/np.sqrt(1 - sval/E - (b*u)**2)\n",
    "\n",
    "def minr_func(u,b,E):\n",
    "        return np.abs( 1 - (b*u)**2 - vtot(u)/E)\n",
    "\n",
    "for i, b in enumerate(bvec):\n",
    "    \n",
    "    min_un = minimize_scalar(minr_func, args=(b,E),bounds=(hbarc/1e3,hbarc/1e-3),method='bounded',options={'disp': 0, 'xatol': 1e-15})\n",
    "    min_u = min_un.x\n",
    "\n",
    "    ## split the integral into two pieces, to handle the diverging piece only over a small range\n",
    "    ## this substantially improves the performance of quad\n",
    "    int_res1 = quad(integ, min_u/1e7, min_u*0.9, args=(b,E)) #, limit=1000, full_output=1)\n",
    "    int_res2 = quad(integ, min_u*0.9, min_u, args=(b,E)) #, limit=1000, full_output=1)\n",
    "    int_res = int_res1[0] + int_res2[0]\n",
    "\n",
    "    ## now try to be smarter:\n",
    "    if( min_u < 1./R ):\n",
    "        int_res1_check = quad(integ_out, 0, min_u, args=(b,E))\n",
    "        int_res_check = int_res1_check[0]\n",
    "    else:\n",
    "        int_res1_check = quad(integ_out, 0, 1./R, args=(b,E))\n",
    "        int_res2_check = quad(integ_in, 1./R, min_u, args=(b,E))\n",
    "        int_res_check = int_res1_check[0] + int_res2_check[0]\n",
    "        \n",
    "    if( np.abs(int_res-int_res_check)/int_res > 1e-5 ): int_res = np.nan\n",
    "    Psi_dave[i] = int_res\n",
    "\n",
    "theta_dave = np.pi - 2 * Psi_dave\n",
    "\n",
    "# Just to reset the \"b\" variable to our vector...\n",
    "b = bvec"
   ]
  },
  {
   "cell_type": "code",
   "execution_count": 26,
   "metadata": {
    "scrolled": true
   },
   "outputs": [
    {
     "data": {
      "text/plain": [
       "Text(0, 0.5, '$\\\\theta(b)$')"
      ]
     },
     "execution_count": 26,
     "metadata": {},
     "output_type": "execute_result"
    },
    {
     "data": {
      "image/png": "[encoded data removed]",
      "text/plain": [
       "<Figure size 432x288 with 1 Axes>"
      ]
     },
     "metadata": {
      "needs_background": "light"
     },
     "output_type": "display_data"
    }
   ],
   "source": [
    "# Thankfully they do agree...\n",
    "plt.plot(b*hbarc, theta)\n",
    "plt.plot(b*hbarc, theta_dave)\n",
    "\n",
    "plt.xlabel('b (um)')\n",
    "plt.ylabel(r'$\\theta(b)$')"
   ]
  },
  {
   "cell_type": "code",
   "execution_count": 27,
   "metadata": {},
   "outputs": [
    {
     "data": {
      "text/plain": [
       "[<matplotlib.lines.Line2D at 0x1ea4b76bd30>]"
      ]
     },
     "execution_count": 27,
     "metadata": {},
     "output_type": "execute_result"
    },
    {
     "data": {
      "image/png": "[encoded data removed]",
      "text/plain": [
       "<Figure size 432x288 with 1 Axes>"
      ]
     },
     "metadata": {
      "needs_background": "light"
     },
     "output_type": "display_data"
    }
   ],
   "source": [
    "plt.plot(b, theta-theta_dave)"
   ]
  },
  {
   "cell_type": "markdown",
   "metadata": {},
   "source": [
    "### Differential cross section"
   ]
  },
  {
   "cell_type": "markdown",
   "metadata": {},
   "source": [
    "Next we want to calculate the differential cross section\n",
    "$$\n",
    "    \\frac{d \\sigma}{d \\Omega} = \\frac{b}{\\sin{\\theta}} | \\frac{d b}{d \\theta} |.\n",
    "$$"
   ]
  },
  {
   "cell_type": "markdown",
   "metadata": {},
   "source": [
    "The original impact parameters $b$ are constructued in log spacing, so we first interpolate $b$ and $\\theta(b)$ into linear spacing then calculate the numerical derivative."
   ]
  },
  {
   "cell_type": "code",
   "execution_count": 28,
   "metadata": {},
   "outputs": [],
   "source": [
    "b_lin = np.linspace(start=b[0], stop=b[-1], num=b.size)\n",
    "theta_lin = np.interp(b_lin, b, theta)"
   ]
  },
  {
   "cell_type": "code",
   "execution_count": 29,
   "metadata": {},
   "outputs": [],
   "source": [
    "d_theta_d_b = np.gradient(theta_lin, b_lin)"
   ]
  },
  {
   "cell_type": "markdown",
   "metadata": {},
   "source": [
    "Plot the numerical derivative $d \\theta / d b$. It seems like there aren't funny numerical artifacts."
   ]
  },
  {
   "cell_type": "code",
   "execution_count": 30,
   "metadata": {
    "scrolled": true
   },
   "outputs": [
    {
     "data": {
      "text/plain": [
       "Text(0, 0.5, '$d \\\\theta / d b$')"
      ]
     },
     "execution_count": 30,
     "metadata": {},
     "output_type": "execute_result"
    },
    {
     "data": {
      "image/png": "[encoded data removed]",
      "text/plain": [
       "<Figure size 432x288 with 1 Axes>"
      ]
     },
     "metadata": {
      "needs_background": "light"
     },
     "output_type": "display_data"
    }
   ],
   "source": [
    "plt.plot(b_lin, d_theta_d_b)\n",
    "plt.xlabel('b ($eV^{-1}$)')\n",
    "plt.ylabel(r'$d \\theta / d b$')"
   ]
  },
  {
   "cell_type": "markdown",
   "metadata": {},
   "source": [
    "Plot the differential cross section $d \\sigma / d \\Omega$ against the scattering angle $\\theta$. This is interpreted as the number of scattering between $\\theta$ and $\\theta + d\\theta$ per unit flux. Remember that in Rutherford scattering $d \\sigma / d \\Omega$ falls off quicky as $\\sim \\frac{1}{\\sin^4{(\\theta / 2)}}$ so the result seems to make sense."
   ]
  },
  {
   "cell_type": "code",
   "execution_count": 31,
   "metadata": {},
   "outputs": [],
   "source": [
    "d_sigma_d_Omega = (b_lin / np.sin(theta_lin)) * np.abs(1 / d_theta_d_b)"
   ]
  },
  {
   "cell_type": "code",
   "execution_count": 32,
   "metadata": {
    "scrolled": true
   },
   "outputs": [
    {
     "data": {
      "text/plain": [
       "Text(0, 0.5, '$d \\\\sigma / d \\\\Omega$')"
      ]
     },
     "execution_count": 32,
     "metadata": {},
     "output_type": "execute_result"
    },
    {
     "data": {
      "image/png": "[encoded data removed]",
      "text/plain": [
       "<Figure size 432x288 with 1 Axes>"
      ]
     },
     "metadata": {
      "needs_background": "light"
     },
     "output_type": "display_data"
    }
   ],
   "source": [
    "plt.plot(theta_lin, d_sigma_d_Omega)\n",
    "plt.xlabel(r'Scattering angle (rad)')\n",
    "plt.ylabel(r'$d \\sigma / d \\Omega$')"
   ]
  },
  {
   "cell_type": "markdown",
   "metadata": {},
   "source": [
    "Now convert this to $d \\sigma / d q$ where $q$ is the momentum transfer. We use the formulas\n",
    "$$\n",
    "    q(\\theta) = 2 p \\sin \\frac{\\theta}{2},\n",
    "$$\n",
    "and\n",
    "$$\n",
    "    \\frac{d \\sigma}{d q} = \\frac{2 \\pi q}{p^2} \\frac{d \\sigma}{d \\Omega}.\n",
    "$$\n",
    "In actual analysis we want to smear this with momentum resolution of our system but let's ignore that for now."
   ]
  },
  {
   "cell_type": "code",
   "execution_count": 33,
   "metadata": {},
   "outputs": [],
   "source": [
    "q = 2 * p * np.sin(theta_lin / 2)\n",
    "d_sigma_d_q = (2 * np.pi *q / (p * p)) * d_sigma_d_Omega"
   ]
  },
  {
   "cell_type": "markdown",
   "metadata": {},
   "source": [
    "Plot the differential cross section as a function of momentum transfer."
   ]
  },
  {
   "cell_type": "code",
   "execution_count": 34,
   "metadata": {
    "scrolled": true
   },
   "outputs": [
    {
     "data": {
      "text/plain": [
       "Text(0, 0.5, 'Differential cross section $d \\\\sigma / dq$')"
      ]
     },
     "execution_count": 34,
     "metadata": {},
     "output_type": "execute_result"
    },
    {
     "data": {
      "image/png": "[encoded data removed]",
      "text/plain": [
       "<Figure size 432x288 with 1 Axes>"
      ]
     },
     "metadata": {
      "needs_background": "light"
     },
     "output_type": "display_data"
    }
   ],
   "source": [
    "plt.plot(q, d_sigma_d_q)\n",
    "plt.xlabel('Momentum transfer q (eV)')\n",
    "plt.ylabel(r'Differential cross section $d \\sigma / dq$')"
   ]
  },
  {
   "cell_type": "markdown",
   "metadata": {},
   "source": [
    "### DM velocity distribution $f(v)$"
   ]
  },
  {
   "cell_type": "markdown",
   "metadata": {},
   "source": [
    "The differential rate can be calculated by assuming the dark matter flux is $(\\rho_{\\chi} / M_\\chi) \\cdot v$ where $v$ is the local dark matter velocity, weighted by the DM velocity distribution:\n",
    "$$\n",
    "    \\frac{dR}{dq} = \\frac{\\rho_{\\chi}}{M_\\chi} \\int d^3 v \\cdot v \\cdot f(v) \\frac{d \\sigma}{dq}\n",
    "$$"
   ]
  },
  {
   "cell_type": "markdown",
   "metadata": {},
   "source": [
    "There are two choices for our purpose:\n",
    "\n",
    "1. Asymmetric DM nugget:\n",
    "https://arxiv.org/pdf/1812.07573.pdf .\n",
    "See Eq. (32) and (33) of the paper. Note there is a typo in the sign of the exponential.\n",
    "2. Standard halo model, which is a truncated Maxwell distribution.\n",
    "\n",
    "We will just use the standard halo model for calculation considering a generic composite DM."
   ]
  },
  {
   "cell_type": "code",
   "execution_count": 25,
   "metadata": {},
   "outputs": [],
   "source": [
    "def f_halo(v):\n",
    "    \"\"\"\n",
    "    DM velocity distribution in the Earth frame\n",
    "    \n",
    "    :param v: input velocity (array-like)\n",
    "    :return: velocity distribtuion (array-like)\n",
    "    \"\"\"\n",
    "    N0 = np.pi**1.5 * v0**3 * ( erf(vesc/v0) - 2/np.sqrt(np.pi) * (vesc/v0) * np.exp(-(vesc/v0)**2))\n",
    "    \n",
    "    # v < (vesc - ve)\n",
    "    f1 = np.exp( - (v+ve)**2 / v0**2 ) * (np.exp(4*v*ve / v0**2) - 1)\n",
    "    # (vesc - ve) < v < (vesc + ve)\n",
    "    f2 = np.exp( - (v-ve)**2 / v0**2 ) - np.exp(- vesc**2 / v0**2)\n",
    "\n",
    "    f = np.zeros_like(v)\n",
    "    g1 = v < (vesc - ve)\n",
    "    g2 = np.logical_and( vesc-ve < v, v < vesc + ve)\n",
    "    \n",
    "    f[g1] = f1[g1]\n",
    "    f[g2] = f2[g2]\n",
    "\n",
    "    return f * np.pi * v * v0**2 / (N0 * ve)\n",
    "\n",
    "def f_halo_dan(v):\n",
    "    \"\"\"\n",
    "    I think this is the standard halo model but need to double check.\n",
    "    See Eq. (2) of https://link.aps.org/doi/10.1103/PhysRevD.42.3572\n",
    "    \"\"\"\n",
    "    N0 = np.pi**1.5 * v0**3 * ( erf(vesc/v0) - 2/np.sqrt(np.pi) * (vesc/v0) * np.exp(-(vesc/v0)**2))\n",
    "    return 4*np.pi*v**2 * np.exp(-v**2 / v0**2) / N0"
   ]
  },
  {
   "cell_type": "code",
   "execution_count": 26,
   "metadata": {
    "scrolled": true
   },
   "outputs": [
    {
     "data": {
      "image/png": "[encoded data removed]",
      "text/plain": [
       "<Figure size 432x288 with 1 Axes>"
      ]
     },
     "metadata": {
      "needs_background": "light"
     },
     "output_type": "display_data"
    }
   ],
   "source": [
    "# Plot the DM velocity distribution\n",
    "vels = np.linspace(vmin, vesc + ve, nvels)\n",
    "vels_shm = np.linspace(vmin, vesc, nvels)\n",
    "\n",
    "plt.figure()\n",
    "plt.plot(vels/vesc, f_halo(vels), label='Nugget (Coskuner+\\'18)')\n",
    "plt.plot(vels_shm/vesc, f_halo_dan(vels_shm), label='Standard Halo Model')\n",
    "\n",
    "plt.title(f'Velocity distribution, integral = {np.trapz(f_halo(vels), vels):.2f}')\n",
    "plt.legend(frameon=False)\n",
    "plt.xlabel('Velocity (v/vesc)')\n",
    "plt.ylabel('f(v)')\n",
    "plt.show()"
   ]
  },
  {
   "cell_type": "markdown",
   "metadata": {},
   "source": [
    "## Dark matter impulse rate"
   ]
  },
  {
   "cell_type": "markdown",
   "metadata": {},
   "source": [
    "Now we can calculate the differential cross ection $\\frac{d \\sigma}{d q}(v)$ for a given dark matter velocity. Let's organize everything in one place."
   ]
  },
  {
   "cell_type": "code",
   "execution_count": 35,
   "metadata": {},
   "outputs": [],
   "source": [
    "def b_theta(M_X, m_phi, alpha, v):\n",
    "    p = M_X * v            # DM initial momentum (eV)\n",
    "    E = 1./2 * M_X * v**2  # Initial kinetic energy of incoming particle\n",
    "    \n",
    "    # Make a list of impact parameters\n",
    "    if(m_phi > 0):\n",
    "        b_um = np.logspace(-3, 3, 2000)\n",
    "    else:\n",
    "        b_um = np.logspace(-3, 5, 2000)\n",
    "    b = b_um / hbarc       # Impact factor (eV^-1)\n",
    "    \n",
    "    # Calculate scattering angle `theta` for each element in `b`\n",
    "    max_u = max_u_numerical(E, b)\n",
    "    Psi = np.empty_like(b)\n",
    "    for i, _b in enumerate(b):\n",
    "        umax = max_u[i]\n",
    "        _b = b[i]\n",
    "        Psi[i] = quad(integrand, 0, umax, args=(E, _b))[0]\n",
    "    \n",
    "    theta = np.pi - 2 * Psi\n",
    "    \n",
    "    good_pts = np.logical_not( np.logical_or(np.isnan(theta), np.isinf(theta)) )\n",
    "    theta = theta[good_pts]\n",
    "    b = b[good_pts]\n",
    "    \n",
    "    return b, theta"
   ]
  },
  {
   "cell_type": "code",
   "execution_count": 177,
   "metadata": {},
   "outputs": [],
   "source": [
    "def dsig_dq(b, theta):\n",
    "    \n",
    "    bcidx = np.argmax(theta)\n",
    "    bcrit = b[bcidx]\n",
    "\n",
    "    ## now need the cross section above and below bcrit\n",
    "    b1, t1 = b[:bcidx], theta[:bcidx]\n",
    "    b2, t2 = b[bcidx:], theta[bcidx:]\n",
    "\n",
    "    q1 = p * np.sqrt( 2*(1-np.cos(t1)) )\n",
    "    q2 = p * np.sqrt( 2*(1-np.cos(t2)) )\n",
    "    q = p * np.sqrt( 2*(1-np.cos(theta)) )\n",
    "    \n",
    "##==============================================================================\n",
    "#     ## make sure we limit the second part to only the first time we fall below threshold\n",
    "#     first_fall = np.argwhere(np.logical_and( q2>q_thr, np.roll(q2, -1)<q_thr))\n",
    "#     if(len(first_fall > 0)):\n",
    "#         gidx2 = np.logical_and(gidx2, b2<b2[first_fall[0]])\n",
    "    \n",
    "#     if(len(b1) > 1 ):\n",
    "#         db1 = np.abs(np.gradient(b1, q1))\n",
    "#     else:\n",
    "#         db1 = 0\n",
    "#     db2 = np.abs(np.gradient(b2, q2))\n",
    "    \n",
    "#     ## in order to make the divergence in dsig/dq correct at the last bin, fit the peak\n",
    "#     ## to a parabola, and estimate the max deriviate in one q bin\n",
    "#     bsize = q[1] - q[0]\n",
    "#     if( len(b1) > 6 ):\n",
    "#         nsides = 2\n",
    "#         pfit = np.polyfit(b[(bcidx-nsides):(bcidx+nsides+1)], q[(bcidx-nsides):(bcidx+nsides+1)], 2 )\n",
    "\n",
    "#         max_loc = -pfit[1] / (2*pfit[0])\n",
    "#         delt_x = np.sqrt( np.abs(bsize/pfit[0]) )\n",
    "#         max_deriv = delt_x / bsize\n",
    "\n",
    "#         ## Limit the divergence to the max per bin size\n",
    "#         db1[ db1 > max_deriv] = max_deriv\n",
    "#         db2[ db2 > max_deriv] = max_deriv\n",
    "        \n",
    "#     q_lin = np.linspace(0, 2*pmax*1.1, 10000)\n",
    "#     if(len(b1) > 1 ):\n",
    "#         q1_idx = np.argsort(q1)\n",
    "#         dsigdq1 = np.interp(q_lin, q1[q1_idx], 2 * np.pi * b1[q1_idx] * db1[q1_idx], left=0, right=0)\n",
    "#     else:\n",
    "#         dsigdq1 = np.zeros_like(q_lin)\n",
    "#     q2_idx = np.argsort(q2)     \n",
    "#     dsigdq2 = np.interp(q_lin, q2[q2_idx], 2 * np.pi * b2[q2_idx] * db2[q2_idx], left=0, right=0)\n",
    "    \n",
    "#     dsigdq_tot = dsigdq1 + dsigdq2\n",
    "#     dsigdq_tot[q_lin < q_thr] = 0\n",
    "    \n",
    "#     return q_lin, dsigdq_tot\n",
    "    \n",
    "##=============================================================\n",
    "    \n",
    "#     gidx1 = q1 > q_thr\n",
    "#     gidx2 = q2 > q_thr\n",
    "    \n",
    "#     if(len(b1) > 1 ):\n",
    "#         db1 = np.abs(np.gradient(b1, q1))\n",
    "#         gidx1 = np.logical_and( gidx1, np.logical_not(np.isnan(db1)) )\n",
    "#         gidx1 = np.logical_and( gidx1, np.logical_not(np.isinf(db1)) )\n",
    "#     else:\n",
    "#         db1 = 0\n",
    "#     db2 = np.abs(np.gradient(b2, q2))\n",
    "#     gidx2 = np.logical_and( gidx2, np.logical_not(np.isnan(db2)) )\n",
    "#     gidx2 = np.logical_and( gidx2, np.logical_not(np.isinf(db2)) )\n",
    "\n",
    "#     qq = np.linspace(q_thr, 2*pmax*1.1, 10000)\n",
    "\n",
    "#     if( np.sum( gidx2 ) == 0 ):\n",
    "#         return qq, np.zeros_like(qq)\n",
    "    \n",
    "#     ## make sure we limit the second part to only the first time we fall below threshold\n",
    "#     first_fall = np.argwhere(np.logical_and( q2>q_thr, np.roll(q2, -1)<q_thr))\n",
    "#     if(len(first_fall > 0)):\n",
    "#         gidx2 = np.logical_and(gidx2, b2<b2[first_fall[0]])\n",
    "    \n",
    "#     ## find the local sigma and throw out points much above it\n",
    "#     bad_vec = np.ones_like( b2 )\n",
    "#     for jj in range(len(b2)):\n",
    "#         min_idx = np.max( (0, jj-3) )\n",
    "#         max_idx = np.min( (len(b2), jj+3) )\n",
    "#         cneigh = np.hstack( (q2[min_idx:jj],q2[(jj+1):max_idx]) )\n",
    "#         cneigh = cneigh[np.logical_not(np.isnan(cneigh))]\n",
    "#         cneigh = cneigh[np.logical_not(np.isinf(cneigh))]\n",
    "#         curr_std = np.std(cneigh)\n",
    "#         curr_mean = np.median(cneigh)\n",
    "#         if( q2[jj]-curr_mean > 10*curr_std ):\n",
    "#             bad_vec[jj] = 0\n",
    "#     gidx2 = np.logical_and(gidx2, bad_vec)        \n",
    "\n",
    "#     ## in order to make the divergence in dsig/dq correct at the last bin, fit the peak\n",
    "#     ## to a parabola, and estimate the max deriviate in one q bin\n",
    "#     bsize = qq[1]-qq[0]\n",
    "#     if( len(b1) > 6 ):\n",
    "#         nsides = 2\n",
    "#         pfit = np.polyfit(b[(bcidx-nsides):(bcidx+nsides+1)], q[(bcidx-nsides):(bcidx+nsides+1)], 2 )\n",
    "\n",
    "#         max_loc = -pfit[1]/(2*pfit[0])\n",
    "#         delt_x = np.sqrt( np.abs(bsize/pfit[0]) )\n",
    "#         max_deriv = delt_x/bsize\n",
    "        \n",
    "#         ## Limit the divergence to the max per bin size\n",
    "#         db1[ db1 > max_deriv] = max_deriv\n",
    "#         db2[ db2 > max_deriv] = max_deriv\n",
    "    \n",
    "#     ## now resample the momentum to a uniform spacing\n",
    "#     if( len(b1[gidx1]) > 1):\n",
    "#         dsigdq1 = np.interp(qq, q1[gidx1], 2*np.pi*b1[gidx1]*db1[gidx1], left=0, right=0)\n",
    "#     else:\n",
    "#         dsigdq1 = 0\n",
    "#     q2, b2, db2 = q2[gidx2], b2[gidx2], db2[gidx2]\n",
    "#     dsigdq2 = np.interp(qq, q2[::-1], 2*np.pi*b2[::-1]*db2[::-1], left=0, right=0)\n",
    "\n",
    "#     dsigdq_tot = dsigdq1+dsigdq2\n",
    "#     return qq, dsigdq_tot\n",
    "\n",
    "#===============================================================\n",
    "    q_lin = np.linspace(0, 2*pmax*1.1, 10000)\n",
    "    if(len(b1) > 1 ):\n",
    "        q1_idx = np.argsort(q1)\n",
    "        b1_cubic = CubicSpline(q1[q1_idx], b1[q1_idx])(q1[q1_idx])\n",
    "        db1 = np.abs(np.gradient(b1_cubic, q1[q1_idx]))\n",
    "        \n",
    "    q2_idx = np.argsort(q2)\n",
    "    b2_cubic = CubicSpline(q2[q2_idx], b2[q2_idx])(q2[q2_idx])\n",
    "    db2 = np.abs(np.gradient(b2_cubic, q2[q2_idx]))\n",
    "    \n",
    "    if (len(b1) > 1 ):\n",
    "        dsigdq1 = np.interp(q_lin, q1[q1_idx], 2 * np.pi * b1[q1_idx] * db1, right=0)\n",
    "    else:\n",
    "        dsigdq1 = np.zeros_like(q_lin)\n",
    "    dsigdq2 = np.interp(q_lin, q2[q2_idx], 2 * np.pi * b2[q2_idx] * db2, right=0)\n",
    "\n",
    "    dsigdq_tot = dsigdq1 + dsigdq2\n",
    "    dsigdq_tot[q_lin < q_thr] = 0  # Cut off at the momentum threshold\n",
    "    \n",
    "    return q_lin, dsigdq_tot"
   ]
  },
  {
   "cell_type": "markdown",
   "metadata": {},
   "source": [
    "## Debugging"
   ]
  },
  {
   "cell_type": "code",
   "execution_count": 178,
   "metadata": {
    "scrolled": false
   },
   "outputs": [
    {
     "name": "stdout",
     "output_type": "stream",
     "text": [
      "0\n",
      "1\n"
     ]
    },
    {
     "name": "stderr",
     "output_type": "stream",
     "text": [
      "C:\\Users\\yuhan\\anaconda3\\envs\\microspheres\\lib\\site-packages\\scipy\\optimize\\_zeros_py.py:466: RuntimeWarning: some failed to converge after 50 iterations\n",
      "  warnings.warn(msg, RuntimeWarning)\n",
      "C:\\Users\\yuhan\\AppData\\Local\\Temp\\ipykernel_27836\\3798447717.py:18: IntegrationWarning: The maximum number of subdivisions (50) has been achieved.\n",
      "  If increasing the limit yields no improvement it is advised to analyze \n",
      "  the integrand in order to determine the difficulties.  If the position of a \n",
      "  local difficulty can be determined (singularity, discontinuity) one will \n",
      "  probably gain from splitting up the interval and calling the integrator \n",
      "  on the subranges.  Perhaps a special-purpose integrator should be used.\n",
      "  Psi[i] = quad(integrand, 0, umax, args=(E, _b))[0]\n",
      "C:\\Users\\yuhan\\AppData\\Local\\Temp\\ipykernel_27836\\3798447717.py:18: IntegrationWarning: The algorithm does not converge.  Roundoff error is detected\n",
      "  in the extrapolation table.  It is assumed that the requested tolerance\n",
      "  cannot be achieved, and that the returned result (if full_output = 1) is \n",
      "  the best which can be obtained.\n",
      "  Psi[i] = quad(integrand, 0, umax, args=(E, _b))[0]\n",
      "C:\\Users\\yuhan\\AppData\\Local\\Temp\\ipykernel_27836\\3798447717.py:18: IntegrationWarning: The occurrence of roundoff error is detected, which prevents \n",
      "  the requested tolerance from being achieved.  The error may be \n",
      "  underestimated.\n",
      "  Psi[i] = quad(integrand, 0, umax, args=(E, _b))[0]\n"
     ]
    },
    {
     "name": "stdout",
     "output_type": "stream",
     "text": [
      "2\n",
      "3\n",
      "4\n",
      "5\n",
      "6\n",
      "7\n",
      "8\n",
      "9\n"
     ]
    }
   ],
   "source": [
    "nvels = 10      # number of velocities to include in integration\n",
    "vlist = np.linspace(vmin, vesc, nvels)\n",
    "\n",
    "nb = 2000\n",
    "bb, tt = np.empty(shape=(vlist.size, nb)), np.empty(shape=(vlist.size, nb))\n",
    "for idx, v in enumerate(vlist):\n",
    "    print(idx)\n",
    "    bb[idx], tt[idx] = b_theta(M_X, m_phi, alpha, v)"
   ]
  },
  {
   "cell_type": "code",
   "execution_count": 179,
   "metadata": {
    "scrolled": true
   },
   "outputs": [],
   "source": [
    "nq = 10000\n",
    "qq, ss = np.empty(shape=(vlist.size, nq)), np.empty(shape=(vlist.size, nq))\n",
    "for idx, v in enumerate(vlist):\n",
    "    qq[idx], ss[idx] = dsig_dq(bb[idx], tt[idx])"
   ]
  },
  {
   "cell_type": "markdown",
   "metadata": {},
   "source": [
    "Plot the differential cross section for each velocity that we consider."
   ]
  },
  {
   "cell_type": "code",
   "execution_count": 110,
   "metadata": {},
   "outputs": [],
   "source": [
    "dsdqdv_dave = np.load(r'C:\\Users\\yuhan\\work\\microspheres\\code\\impulse\\data\\mphi_1e-04\\dsdqdv_rate_alpha_1.00000e-08_MX_5.00000e+03.npz', allow_pickle='True')\n",
    "ss_dave = dsdqdv_dave['dsigdqdv']\n",
    "qq_dave = dsdqdv_dave['q']"
   ]
  },
  {
   "cell_type": "code",
   "execution_count": 193,
   "metadata": {},
   "outputs": [],
   "source": [
    "dsdq_code = np.load(r'C:\\Users\\yuhan\\work\\microspheres\\code\\impulse\\yuhan\\data\\mphi_1e-04\\differential_rate_alpha_1.00000e-08_MX_5.00000e+03.npz', allow_pickle='True')\n",
    "dsdqdv_code = np.load(r'C:\\Users\\yuhan\\work\\microspheres\\code\\impulse\\yuhan\\data\\mphi_1e-04\\dsdqdv_1.00000e-08_MX_5.00000e+03.npz', allow_pickle='True')"
   ]
  },
  {
   "cell_type": "code",
   "execution_count": 194,
   "metadata": {},
   "outputs": [
    {
     "data": {
      "text/plain": [
       "['qq', 'dsdqdv', 'v']"
      ]
     },
     "execution_count": 194,
     "metadata": {},
     "output_type": "execute_result"
    }
   ],
   "source": [
    "dsdqdv_code.files"
   ]
  },
  {
   "cell_type": "code",
   "execution_count": 197,
   "metadata": {},
   "outputs": [
    {
     "data": {
      "text/plain": [
       "(0.0, 1.0)"
      ]
     },
     "execution_count": 197,
     "metadata": {},
     "output_type": "execute_result"
    },
    {
     "data": {
      "image/png": "[encoded data removed]",
      "text/plain": [
       "<Figure size 432x288 with 1 Axes>"
      ]
     },
     "metadata": {
      "needs_background": "light"
     },
     "output_type": "display_data"
    }
   ],
   "source": [
    "for i in range(10):\n",
    "    plt.plot(dsdqdv_code['qq'][i], dsdqdv_code['dsdqdv'][i])\n",
    "plt.xlim(0, 1)"
   ]
  },
  {
   "cell_type": "code",
   "execution_count": 192,
   "metadata": {},
   "outputs": [
    {
     "data": {
      "text/plain": [
       "[<matplotlib.lines.Line2D at 0x1f0ffc0c8b0>]"
      ]
     },
     "execution_count": 192,
     "metadata": {},
     "output_type": "execute_result"
    },
    {
     "data": {
      "image/png": "[encoded data removed]",
      "text/plain": [
       "<Figure size 432x288 with 1 Axes>"
      ]
     },
     "metadata": {
      "needs_background": "light"
     },
     "output_type": "display_data"
    }
   ],
   "source": [
    "plt.plot(dsdq_code['q'][0], dsdq_code['dsigdq'])"
   ]
  },
  {
   "cell_type": "code",
   "execution_count": null,
   "metadata": {},
   "outputs": [],
   "source": []
  },
  {
   "cell_type": "code",
   "execution_count": null,
   "metadata": {},
   "outputs": [],
   "source": []
  },
  {
   "cell_type": "code",
   "execution_count": null,
   "metadata": {},
   "outputs": [],
   "source": []
  },
  {
   "cell_type": "code",
   "execution_count": 88,
   "metadata": {
    "scrolled": true
   },
   "outputs": [
    {
     "data": {
      "text/plain": [
       "['q', 'dsigdqdv', 'theta_b_save', 'b_um_save']"
      ]
     },
     "execution_count": 88,
     "metadata": {},
     "output_type": "execute_result"
    }
   ],
   "source": [
    "dsdqdv_dave.files"
   ]
  },
  {
   "cell_type": "code",
   "execution_count": 183,
   "metadata": {
    "scrolled": false
   },
   "outputs": [
    {
     "data": {
      "text/plain": [
       "(0.0, 0.5)"
      ]
     },
     "execution_count": 183,
     "metadata": {},
     "output_type": "execute_result"
    },
    {
     "data": {
      "image/png": "[encoded data removed]",
      "text/plain": [
       "<Figure size 432x288 with 1 Axes>"
      ]
     },
     "metadata": {
      "needs_background": "light"
     },
     "output_type": "display_data"
    }
   ],
   "source": [
    "for i in range(10):\n",
    "    plt.plot(qq[i]/1e9, ss[i], 'b', alpha=0.7)\n",
    "    plt.plot(qq_dave, ss_dave[i], 'k', alpha=0.5)\n",
    "plt.xlabel('Momentum transfer $q$ (GeV)')\n",
    "plt.ylabel('$d \\sigma / d q$')\n",
    "plt.xlim(0, 0.5)"
   ]
  },
  {
   "cell_type": "code",
   "execution_count": null,
   "metadata": {},
   "outputs": [],
   "source": []
  },
  {
   "cell_type": "markdown",
   "metadata": {},
   "source": [
    "Integrate over velocities for differential rate"
   ]
  },
  {
   "cell_type": "code",
   "execution_count": 184,
   "metadata": {},
   "outputs": [],
   "source": [
    "nvels = 10      # number of velocities to include in integration\n",
    "vlist = np.linspace(vmin, vesc, nvels)\n",
    "vlist = vlist\n",
    "int_vec = rhoDM / M_X * vlist * f_halo(vlist)\n",
    "\n",
    "tot_xsec = np.zeros(10000)\n",
    "tot_xsec_dave = np.zeros(10000)\n",
    "for i in range(10000):\n",
    "    tot_xsec[i] = np.trapz( int_vec * ss.T[i], x=vlist )\n",
    "    tot_xsec_dave[i] = np.trapz( int_vec * ss_dave.T[i], x=vlist)"
   ]
  },
  {
   "cell_type": "code",
   "execution_count": 187,
   "metadata": {
    "scrolled": false
   },
   "outputs": [
    {
     "data": {
      "text/plain": [
       "(0.0, 1.0)"
      ]
     },
     "execution_count": 187,
     "metadata": {},
     "output_type": "execute_result"
    },
    {
     "data": {
      "image/png": "[encoded data removed]",
      "text/plain": [
       "<Figure size 432x288 with 1 Axes>"
      ]
     },
     "metadata": {
      "needs_background": "light"
     },
     "output_type": "display_data"
    }
   ],
   "source": [
    "conv_fac = hbarc**2 * 1e9 * 3e10 * 1e-8 * 3600  # natural units -> um^2/GeV, c [cm/s], um^2/cm^2, s/hr\n",
    "\n",
    "plt.plot( qq[0]/1e9, tot_xsec*conv_fac)\n",
    "plt.plot( qq[0]/1e9, tot_xsec_dave*conv_fac)\n",
    "plt.xlabel(\"Momentum [GeV]\")\n",
    "plt.ylabel(\"dR/dq [counts/hr/GeV]\")\n",
    "plt.xlim(0, 1)"
   ]
  },
  {
   "cell_type": "code",
   "execution_count": null,
   "metadata": {},
   "outputs": [],
   "source": []
  },
  {
   "cell_type": "code",
   "execution_count": null,
   "metadata": {},
   "outputs": [],
   "source": []
  },
  {
   "cell_type": "code",
   "execution_count": null,
   "metadata": {},
   "outputs": [],
   "source": []
  },
  {
   "cell_type": "code",
   "execution_count": 181,
   "metadata": {},
   "outputs": [
    {
     "data": {
      "text/plain": [
       "0.001815"
      ]
     },
     "execution_count": 181,
     "metadata": {},
     "output_type": "execute_result"
    }
   ],
   "source": [
    "v"
   ]
  },
  {
   "cell_type": "markdown",
   "metadata": {},
   "source": [
    "Showing result calculated by Dave's code, assuming the same 10 velocities."
   ]
  },
  {
   "cell_type": "code",
   "execution_count": 225,
   "metadata": {},
   "outputs": [
    {
     "data": {
      "text/plain": [
       "(0.0, 1.0)"
      ]
     },
     "execution_count": 225,
     "metadata": {},
     "output_type": "execute_result"
    },
    {
     "data": {
      "image/png": "[encoded data removed]",
      "text/plain": [
       "<Figure size 432x288 with 1 Axes>"
      ]
     },
     "metadata": {
      "needs_background": "light"
     },
     "output_type": "display_data"
    }
   ],
   "source": [
    "data = np.load(r'C:\\Users\\yuhan\\work\\microspheres\\code\\impulse\\data\\mphi_1e-04\\differential_rate_alpha_1.00000e-08_MX_5.00000e+03.npz')\n",
    "plt.plot(data['q'], data['dsigdq'])\n",
    "plt.xlim(0, 1)"
   ]
  },
  {
   "cell_type": "code",
   "execution_count": 246,
   "metadata": {},
   "outputs": [],
   "source": [
    "dsdqdv_dave = np.load(r'C:\\Users\\yuhan\\work\\microspheres\\code\\impulse\\data\\mphi_1e-04\\dsdqdv_rate_alpha_1.00000e-08_MX_5.00000e+03.npz', allow_pickle='True')"
   ]
  },
  {
   "cell_type": "code",
   "execution_count": 247,
   "metadata": {},
   "outputs": [
    {
     "data": {
      "text/plain": [
       "['q', 'dsigdqdv', 'theta_b_save', 'b_um_save']"
      ]
     },
     "execution_count": 247,
     "metadata": {},
     "output_type": "execute_result"
    }
   ],
   "source": [
    "dsdqdv_dave.files"
   ]
  },
  {
   "cell_type": "code",
   "execution_count": 248,
   "metadata": {
    "scrolled": true
   },
   "outputs": [
    {
     "data": {
      "text/plain": [
       "(0.0, 1.0)"
      ]
     },
     "execution_count": 248,
     "metadata": {},
     "output_type": "execute_result"
    },
    {
     "data": {
      "image/png": "[encoded data removed]",
      "text/plain": [
       "<Figure size 432x288 with 1 Axes>"
      ]
     },
     "metadata": {
      "needs_background": "light"
     },
     "output_type": "display_data"
    }
   ],
   "source": [
    "for i in range(10):\n",
    "    plt.plot(dsdqdv_dave['q'], dsdqdv_dave['dsigdqdv'][i])\n",
    "plt.xlim(0, 1)"
   ]
  },
  {
   "cell_type": "code",
   "execution_count": 274,
   "metadata": {},
   "outputs": [
    {
     "data": {
      "text/plain": [
       "(0.0, 1.0)"
      ]
     },
     "execution_count": 274,
     "metadata": {},
     "output_type": "execute_result"
    },
    {
     "data": {
      "image/png": "[encoded data removed]",
      "text/plain": [
       "<Figure size 432x288 with 1 Axes>"
      ]
     },
     "metadata": {
      "needs_background": "light"
     },
     "output_type": "display_data"
    }
   ],
   "source": [
    "# plt.plot(dsdqdv_dave['q'], dsdqdv_dave['dsigdqdv'][0])\n",
    "plt.plot(dsdqdv_dave['q'], dsdqdv_dave['dsigdqdv'][2])\n",
    "plt.xlim(0, 1)"
   ]
  },
  {
   "cell_type": "code",
   "execution_count": null,
   "metadata": {},
   "outputs": [],
   "source": []
  }
 ],
 "metadata": {
  "kernelspec": {
   "display_name": "microspheres",
   "language": "python",
   "name": "microspheres"
  },
  "language_info": {
   "codemirror_mode": {
    "name": "ipython",
    "version": 3
   },
   "file_extension": ".py",
   "mimetype": "text/x-python",
   "name": "python",
   "nbconvert_exporter": "python",
   "pygments_lexer": "ipython3",
   "version": "3.10.2"
  }
 },
 "nbformat": 4,
 "nbformat_minor": 4
}
