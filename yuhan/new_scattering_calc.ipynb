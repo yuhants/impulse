{
 "cells": [
  {
   "cell_type": "code",
   "execution_count": 1,
   "metadata": {},
   "outputs": [],
   "source": [
    "import numpy as np\n",
    "\n",
    "from scipy.optimize import minimize_scalar, newton, fsolve\n",
    "from scipy.integrate import quad\n",
    "import scipy.signal as sig\n",
    "from scipy.special import erf, spherical_jn\n",
    "from scipy.interpolate import CubicSpline\n",
    "\n",
    "import matplotlib.pyplot as plt"
   ]
  },
  {
   "cell_type": "markdown",
   "metadata": {},
   "source": [
    "First compare the case of massless mediator in the point charge limit with exact formula and numerical integration"
   ]
  },
  {
   "cell_type": "code",
   "execution_count": 2,
   "metadata": {},
   "outputs": [],
   "source": [
    "hbarc = 0.2     # eV um\n",
    "rho_T = 2.0e3   # Sphere density, kg/m^3\n",
    "mAMU = 1.66e-27 # Neutron mass\n",
    "\n",
    "R_um = 5          # Sphere radius, um\n",
    "R = R_um / hbarc  # Radius in natural units, eV^-1\n",
    "N_T = 0.5 * ( 4/3 * np.pi * (R_um*1e-6)**3) * rho_T/mAMU # Number of neutrons\n",
    "res = 170e6       # detector resolution in eV\n",
    "\n",
    "#q_thr = 0.05e9    # momentum threshold, eV\n",
    "q_thr = 0"
   ]
  },
  {
   "cell_type": "code",
   "execution_count": 3,
   "metadata": {},
   "outputs": [],
   "source": [
    "M_X = 5e3 * 1e9\n",
    "alpha = 1e-8 * N_T\n",
    "\n",
    "vmin = 5e-5      # minimum velocity to consider, natural units (c)\n",
    "vesc = 1.815e-3  # galactic escape velocity"
   ]
  },
  {
   "cell_type": "code",
   "execution_count": 4,
   "metadata": {},
   "outputs": [],
   "source": [
    "v = 0.5 * (vmin + vesc)\n",
    "\n",
    "p = M_X * v            # DM initial momentum (eV)\n",
    "E = 1./2 * M_X * v**2  # Initial kinetic energy of incoming particle\n",
    "pmax = np.max((vesc * M_X, 10e9))\n",
    "\n",
    "b_um = np.logspace(-3, 5, 2000)\n",
    "b = b_um / hbarc       # Impact factor (eV^-1)"
   ]
  },
  {
   "cell_type": "code",
   "execution_count": 5,
   "metadata": {},
   "outputs": [],
   "source": [
    "def vtot(u, m_phi, alpha, point_charge=False):\n",
    "    mR = m_phi * R\n",
    "    \n",
    "    u = np.asarray(u)\n",
    "    ret = np.empty_like(u)\n",
    "    \n",
    "    if point_charge:\n",
    "        if (mR > 0):\n",
    "            ret = alpha * u * np.exp(-1 * m_phi / u)\n",
    "        else:\n",
    "            ret = alpha * u\n",
    "        return ret\n",
    "    \n",
    "    # Divide the array of u=1/r into three cases\n",
    "    neg     = (u <= 0)   # ill-defined\n",
    "    outside = (u < 1/R)  # ouside sphere\n",
    "    inside  = (u >= 1/R) # inside sphere\n",
    "    \n",
    "    ret[neg] = np.inf\n",
    "    \n",
    "    if(mR > 0):   # massive mediator\n",
    "        ret[outside] = 3 * alpha/mR**3 * (mR * np.cosh(mR) - np.sinh(mR)) * np.exp(-m_phi/u[outside]) * u[outside]\n",
    "        ret[inside] = 3 * alpha/mR**3 * (m_phi - u[inside]*(1 + mR)/(1+1./np.tanh(mR)) * (np.sinh(m_phi/u[inside])/np.sinh(mR)))\n",
    "        \n",
    "    else:         # massless mediator (alpha/r)\n",
    "        ret[outside] = alpha * u[outside]\n",
    "        ret[inside] = alpha/2 * (3/R - 1./(R**3 * u[inside]**2))\n",
    "\n",
    "    return ret"
   ]
  },
  {
   "cell_type": "code",
   "execution_count": null,
   "metadata": {},
   "outputs": [],
   "source": []
  },
  {
   "cell_type": "code",
   "execution_count": 122,
   "metadata": {},
   "outputs": [],
   "source": [
    "# def integrand_old(u, E, _b, m_phi, alpha, point_charge):\n",
    "#     sval = 1 - vtot(u, m_phi, alpha, point_charge) / E - (_b*u)**2\n",
    "#     if sval < 1e-10:  # cut off bad values that should be zero\n",
    "#         sval= np.inf\n",
    "\n",
    "#     integ = _b / np.sqrt(sval)\n",
    "#     return integ"
   ]
  },
  {
   "cell_type": "code",
   "execution_count": 121,
   "metadata": {},
   "outputs": [],
   "source": [
    "# def b_theta_old(M_X, m_phi, alpha, v, point_charge=False):\n",
    "#     p = M_X * v            # DM initial momentum (eV)\n",
    "#     E = 1./2 * M_X * v**2  # Initial kinetic energy of incoming particle\n",
    "\n",
    "#     # Make a list of impact parameters\n",
    "#     if(m_phi > 0):\n",
    "#         b_um = np.logspace(-5, 3, 2000)\n",
    "#     else:\n",
    "#         b_um = np.logspace(-5, 5, 2000)\n",
    "#     b = b_um / hbarc       # Impact factor (eV^-1)\n",
    "\n",
    "#     # Calculate scattering angle `theta` for each element in `b`\n",
    "#     max_u = max_u_numerical(E, b, m_phi, alpha, point_charge)\n",
    "#     Psi = np.empty_like(b)\n",
    "#     for i, _b in enumerate(b):\n",
    "#         umax = max_u[i]\n",
    "#         _b = b[i]\n",
    "#         Psi[i] = quad(integrand_old, 0, umax, args=(E, _b, m_phi, alpha, point_charge))[0]\n",
    "\n",
    "#     theta = np.pi - 2 * Psi\n",
    "\n",
    "#     good_pts = np.logical_not( np.logical_or(np.isnan(theta), np.isinf(theta)) )\n",
    "#     theta = theta[good_pts]\n",
    "#     b = b[good_pts]\n",
    "\n",
    "#     return p, b, theta"
   ]
  },
  {
   "cell_type": "code",
   "execution_count": 178,
   "metadata": {},
   "outputs": [],
   "source": [
    "def max_u_func(u, E, b, m_phi, alpha, point_charge):\n",
    "    return np.log(np.abs(1 - (b*u)**2 - vtot(u, m_phi, alpha, point_charge) / E))\n",
    "\n",
    "def max_u_numerical(E, b, m_phi, alpha, point_charge):    \n",
    "    # Zero of the function closest to each `b`\n",
    "    ## Old implementations both give bad result\n",
    "#     max_u = newton(max_u_func, x0=1/b, args=(b, E, m_phi, alpha, point_charge))\n",
    "#     max_u = minimize_scalar(max_u_func, args=(E, b, m_phi, alpha, point_charge), bounds=(hbarc/1e3,hbarc/1e-3),method='bounded',options={'disp': 0, 'xatol': 1e-15})\n",
    "#     return max_u.x\n",
    "\n",
    "    if not hasattr(b, '__iter__'):\n",
    "        b = np.asarray([b])\n",
    "        \n",
    "    # Iteratively find the min value of the function\n",
    "    max_u = np.empty_like(b)\n",
    "    if point_charge:\n",
    "        ulower, uupper = -8, 6\n",
    "    else:\n",
    "        ulower, uupper = -8, 8\n",
    "    \n",
    "    # Max u for each b\n",
    "    for i, bb in enumerate(b):\n",
    "        uu = np.logspace(ulower, uupper, 10000)\n",
    "        count = 0\n",
    "        converge = False\n",
    "        \n",
    "        while (not converge):\n",
    "            ff = max_u_func(uu, E, bb, m_phi, alpha, point_charge)\n",
    "            min_arg = np.argmin(ff)\n",
    "            if ( ff[min_arg] < -15 ): # Func value smaller than exp(-15)\n",
    "                converge = True\n",
    "                max_u[i] = uu[min_arg]\n",
    "            \n",
    "            else:\n",
    "                # Usually it converges very quickly (only 1 or 2 iterations are needed)\n",
    "                if (count > 100):\n",
    "                    print('Fail to converge after 100 iterations')\n",
    "                    max_u[i] = uu[min_arg]\n",
    "                    break\n",
    "\n",
    "                elif (min_arg == 0 or min_arg == 9999):\n",
    "                    print('Need to increase lower/upper limit')\n",
    "                    max_u[i] = uu[min_arg]\n",
    "                    break\n",
    "                    \n",
    "                else:\n",
    "                    count += 1                \n",
    "                    uu = np.linspace(uu[min_arg-1], uu[min_arg+1], 10000)\n",
    "\n",
    "    return max_u"
   ]
  },
  {
   "cell_type": "code",
   "execution_count": 57,
   "metadata": {},
   "outputs": [],
   "source": [
    "b_um = np.logspace(-5, 5, 2000)\n",
    "b = b_um / hbarc"
   ]
  },
  {
   "cell_type": "code",
   "execution_count": 58,
   "metadata": {
    "scrolled": true
   },
   "outputs": [
    {
     "data": {
      "text/plain": [
       "Text(0, 0.5, 'Minimum r')"
      ]
     },
     "execution_count": 58,
     "metadata": {},
     "output_type": "execute_result"
    },
    {
     "data": {
      "image/png": "[encoded data removed]",
      "text/plain": [
       "<Figure size 432x288 with 1 Axes>"
      ]
     },
     "metadata": {
      "needs_background": "light"
     },
     "output_type": "display_data"
    }
   ],
   "source": [
    "plt.plot(b, 1/max_u_numerical(E, b, 0, alpha, point_charge=True), 'b', label='$m_phi = 0$, PC')\n",
    "plt.plot(b, 1/max_u_numerical(E, b, 0.1, alpha, point_charge=True), 'g', label='$m_phi = 0.1$, PC')\n",
    "plt.plot(b, 1/max_u_numerical(E, b, 1, alpha, point_charge=True), 'k', label='$m_phi = 1$, PC')\n",
    "\n",
    "plt.plot(b, 1/max_u_numerical(E, b, 0, alpha, point_charge=False), 'b--', label='$m_phi = 0$, Extended')\n",
    "plt.plot(b, 1/max_u_numerical(E, b, 0.1, alpha, point_charge=False), 'g--', label='$m_phi = 0.1, Extended')\n",
    "plt.plot(b, 1/max_u_numerical(E, b, 1, alpha, point_charge=False), 'k--', label='$m_phi = 1$, Extended')\n",
    "plt.xscale('log')\n",
    "plt.yscale('log')\n",
    "plt.xlabel('b')\n",
    "plt.ylabel('Minimum r')"
   ]
  },
  {
   "cell_type": "code",
   "execution_count": null,
   "metadata": {},
   "outputs": [],
   "source": []
  },
  {
   "cell_type": "code",
   "execution_count": 117,
   "metadata": {},
   "outputs": [],
   "source": [
    "def integrand(rho, umax, E, b, m_phi, alpha, point_charge):\n",
    "    rmin = 1 / umax\n",
    "    \n",
    "    r = rmin / (1 - rho * rho)\n",
    "    first_term = (rmin*rmin / (rho*rho*E)) * (vtot(umax, m_phi, alpha, point_charge) - vtot(1/r, m_phi, alpha, point_charge))\n",
    "    second_term = b * b * (2 - rho*rho)\n",
    "    \n",
    "    return 1 / np.sqrt(first_term + second_term)"
   ]
  },
  {
   "cell_type": "code",
   "execution_count": 165,
   "metadata": {},
   "outputs": [],
   "source": [
    "def b_theta(M_X, m_phi, alpha, v, point_charge):\n",
    "    p = M_X * v            # DM initial momentum (eV)\n",
    "    E = 1./2 * M_X * v**2  # Initial kinetic energy of incoming particle\n",
    "\n",
    "    # Make a list of impact parameters\n",
    "    # Impact factor `b` (eV^-1)\n",
    "    if(m_phi > 0):\n",
    "        b_um = np.logspace(-5, 5, 2000)\n",
    "    else:\n",
    "        b_um = np.logspace(-5, 5, 2000)\n",
    "    b = b_um / hbarc\n",
    "    \n",
    "    umax = max_u_numerical(E, b, m_phi, alpha, point_charge)\n",
    "    Psi = np.empty_like(b)\n",
    "    for i, _b in enumerate(b):\n",
    "        Psi[i] = quad(integrand, 0, 1, args=(umax[i], E, _b, m_phi, alpha, point_charge))[0]\n",
    "        \n",
    "    theta = np.pi - 4 * b * Psi\n",
    "    \n",
    "    return p, b, theta"
   ]
  },
  {
   "cell_type": "code",
   "execution_count": 144,
   "metadata": {},
   "outputs": [],
   "source": [
    "p, b, theta = b_theta(M_X, 0.1, alpha, v, False)"
   ]
  },
  {
   "cell_type": "code",
   "execution_count": 97,
   "metadata": {},
   "outputs": [
    {
     "name": "stderr",
     "output_type": "stream",
     "text": [
      "C:\\Users\\yuhan\\AppData\\Local\\Temp\\ipykernel_5380\\3482010110.py:18: IntegrationWarning: The algorithm does not converge.  Roundoff error is detected\n",
      "  in the extrapolation table.  It is assumed that the requested tolerance\n",
      "  cannot be achieved, and that the returned result (if full_output = 1) is \n",
      "  the best which can be obtained.\n",
      "  Psi[i] = quad(integrand, 0, umax, args=(E, _b, m_phi, alpha, point_charge))[0]\n",
      "C:\\Users\\yuhan\\AppData\\Local\\Temp\\ipykernel_5380\\3482010110.py:18: IntegrationWarning: The maximum number of subdivisions (50) has been achieved.\n",
      "  If increasing the limit yields no improvement it is advised to analyze \n",
      "  the integrand in order to determine the difficulties.  If the position of a \n",
      "  local difficulty can be determined (singularity, discontinuity) one will \n",
      "  probably gain from splitting up the interval and calling the integrator \n",
      "  on the subranges.  Perhaps a special-purpose integrator should be used.\n",
      "  Psi[i] = quad(integrand, 0, umax, args=(E, _b, m_phi, alpha, point_charge))[0]\n"
     ]
    }
   ],
   "source": [
    "p_o, b_o, theta_o = b_theta_old(M_X, 0.1, alpha, v, False)"
   ]
  },
  {
   "cell_type": "code",
   "execution_count": 116,
   "metadata": {},
   "outputs": [
    {
     "data": {
      "image/png": "[encoded data removed]",
      "text/plain": [
       "<Figure size 432x288 with 1 Axes>"
      ]
     },
     "metadata": {
      "needs_background": "light"
     },
     "output_type": "display_data"
    }
   ],
   "source": [
    "plt.plot(b, theta)\n",
    "# plt.plot(b_o, theta_o, ':')\n",
    "plt.xscale('log')"
   ]
  },
  {
   "cell_type": "code",
   "execution_count": null,
   "metadata": {},
   "outputs": [],
   "source": []
  },
  {
   "cell_type": "code",
   "execution_count": 123,
   "metadata": {},
   "outputs": [],
   "source": [
    "def dsig_dq(p, pmax, b, theta):\n",
    "    bcidx = np.argmax(theta)\n",
    "    bcrit = b[bcidx]\n",
    "\n",
    "    ## now need the cross section above and below bcrit\n",
    "    b1, t1 = b[:bcidx], theta[:bcidx]\n",
    "    b2, t2 = b[bcidx:], theta[bcidx:]\n",
    "\n",
    "    q1 = p * np.sqrt( 2*(1-np.cos(t1)) )\n",
    "    q2 = p * np.sqrt( 2*(1-np.cos(t2)) )\n",
    "    q = p * np.sqrt( 2*(1-np.cos(theta)) )\n",
    "\n",
    "    q_lin = np.linspace(1e-8, 2*pmax*1.1, 10000)\n",
    "    if(len(b1) > 1 ):\n",
    "        q1_sorted, q1_idx = np.unique(q1, return_index=True)\n",
    "        b1_cubic = CubicSpline(q1[q1_idx], b1[q1_idx])(q1[q1_idx])\n",
    "        db1 = np.abs(np.gradient(b1_cubic, q1[q1_idx]))\n",
    "        \n",
    "    q2_sorted, q2_idx = np.unique(q2, return_index=True)\n",
    "    b2_cubic = CubicSpline(q2[q2_idx], b2[q2_idx])(q2[q2_idx])\n",
    "    db2 = np.abs(np.gradient(b2_cubic, q2[q2_idx]))\n",
    "    \n",
    "    if (len(b1) > 1 ):\n",
    "        dsigdq1 = np.interp(q_lin, q1[q1_idx], 2 * np.pi * b1[q1_idx] * db1, right=0)\n",
    "    else:\n",
    "        dsigdq1 = np.zeros_like(q_lin)\n",
    "    dsigdq2 = np.interp(q_lin, q2[q2_idx], 2 * np.pi * b2[q2_idx] * db2, right=0)\n",
    "\n",
    "    dsigdq_tot = dsigdq1 + dsigdq2\n",
    "    dsigdq_tot[q_lin < q_thr] = 0  # Cut off at the momentum threshold\n",
    "    \n",
    "    return q_lin, dsigdq_tot"
   ]
  },
  {
   "cell_type": "code",
   "execution_count": 124,
   "metadata": {},
   "outputs": [],
   "source": [
    "def dsig_domega_born(mx, mphi, alpha, q, point_charge=False):\n",
    "    point_charge_sol = (4 * (mx**2) * (alpha**2) ) / ( (mphi**2 + q**2)**2 )\n",
    "    if point_charge:\n",
    "        return point_charge_sol\n",
    "    else:\n",
    "        form_factor = 3 * spherical_jn(n=1, z=q*R) / (q * R)\n",
    "        return point_charge_sol * form_factor**2"
   ]
  },
  {
   "cell_type": "code",
   "execution_count": 125,
   "metadata": {},
   "outputs": [
    {
     "data": {
      "text/plain": [
       "[<matplotlib.lines.Line2D at 0x1ca589a2fb0>]"
      ]
     },
     "execution_count": 125,
     "metadata": {},
     "output_type": "execute_result"
    },
    {
     "data": {
      "image/png": "[encoded data removed]",
      "text/plain": [
       "<Figure size 432x288 with 1 Axes>"
      ]
     },
     "metadata": {
      "needs_background": "light"
     },
     "output_type": "display_data"
    }
   ],
   "source": [
    "qq = np.linspace(1e-2, 1e2, 1000)\n",
    "fq = 3 * (np.sin(qq*R) - qq * R * np.cos(qq*R)) / ((qq*R)**3)\n",
    "fq2 = 3 * spherical_jn(n=1, z=qq*R) / (qq * R)\n",
    "\n",
    "plt.loglog(qq, fq**2)\n",
    "plt.loglog(qq, fq2**2)"
   ]
  },
  {
   "cell_type": "markdown",
   "metadata": {},
   "source": [
    "Massless mediator in the point charge limit (assume no momentum threshold cutoff)"
   ]
  },
  {
   "cell_type": "code",
   "execution_count": 179,
   "metadata": {},
   "outputs": [],
   "source": [
    "p, b, theta = b_theta(M_X, 0, alpha, v, point_charge=True)"
   ]
  },
  {
   "cell_type": "code",
   "execution_count": 181,
   "metadata": {},
   "outputs": [
    {
     "data": {
      "image/png": "[encoded data removed]",
      "text/plain": [
       "<Figure size 432x288 with 1 Axes>"
      ]
     },
     "metadata": {
      "needs_background": "light"
     },
     "output_type": "display_data"
    }
   ],
   "source": [
    "# Will hit numerical issues if use a higher upper limit for b, \n",
    "# it seems like the numerical integration fails to converge\n",
    "# so this step underestimates the low energy tail in the spectrum\n",
    "plt.plot(b, theta)\n",
    "plt.xlabel('b')\n",
    "plt.ylabel(r'$\\theta(b)$')\n",
    "plt.xscale('log')"
   ]
  },
  {
   "cell_type": "code",
   "execution_count": 147,
   "metadata": {},
   "outputs": [],
   "source": [
    "q, dsigdq_0_pc = dsig_dq(p, pmax, b, theta)"
   ]
  },
  {
   "cell_type": "markdown",
   "metadata": {},
   "source": [
    "Cross section from the Born approximation (it turns out to be the exact solution for massless mediator)"
   ]
  },
  {
   "cell_type": "code",
   "execution_count": 148,
   "metadata": {
    "scrolled": true
   },
   "outputs": [],
   "source": [
    "dsdo_born_0_pc = dsig_domega_born(M_X, 0, alpha, q, point_charge=True)\n",
    "dsdq_born_0_pc = dsdo_born_0_pc * 2 * np.pi * q / (p**2)"
   ]
  },
  {
   "cell_type": "code",
   "execution_count": 149,
   "metadata": {
    "scrolled": true
   },
   "outputs": [
    {
     "data": {
      "text/plain": [
       "<matplotlib.legend.Legend at 0x1ca57889960>"
      ]
     },
     "execution_count": 149,
     "metadata": {},
     "output_type": "execute_result"
    },
    {
     "data": {
      "image/png": "[encoded data removed]",
      "text/plain": [
       "<Figure size 432x288 with 1 Axes>"
      ]
     },
     "metadata": {
      "needs_background": "light"
     },
     "output_type": "display_data"
    }
   ],
   "source": [
    "plt.plot(q/1e9, dsigdq_0_pc, ':', linewidth=2, label='Numerical Integration')\n",
    "plt.plot(q/1e9, dsdq_born_0_pc, '--', linewidth=2, label='Born')\n",
    "\n",
    "# plt.xscale('log')\n",
    "plt.yscale('log')\n",
    "plt.xlabel('q (GeV)')\n",
    "plt.ylabel('$d \\sigma /d q$')\n",
    "plt.legend(frameon=False)"
   ]
  },
  {
   "cell_type": "markdown",
   "metadata": {},
   "source": [
    "Study the massive mediator case:"
   ]
  },
  {
   "cell_type": "code",
   "execution_count": 151,
   "metadata": {
    "scrolled": true
   },
   "outputs": [],
   "source": [
    "mphi = 0.1\n",
    "p, b, theta = b_theta(M_X, mphi, alpha, v, point_charge=True)"
   ]
  },
  {
   "cell_type": "code",
   "execution_count": 152,
   "metadata": {},
   "outputs": [
    {
     "data": {
      "image/png": "[encoded data removed]",
      "text/plain": [
       "<Figure size 432x288 with 1 Axes>"
      ]
     },
     "metadata": {
      "needs_background": "light"
     },
     "output_type": "display_data"
    }
   ],
   "source": [
    "plt.plot(b, theta)\n",
    "plt.xlabel('b')\n",
    "plt.ylabel(r'$\\theta(b)$')\n",
    "plt.yscale('log')"
   ]
  },
  {
   "cell_type": "code",
   "execution_count": 153,
   "metadata": {},
   "outputs": [],
   "source": [
    "q, dsigdq_01_pc = dsig_dq(p, pmax, b, theta)"
   ]
  },
  {
   "cell_type": "code",
   "execution_count": 154,
   "metadata": {},
   "outputs": [],
   "source": [
    "dsdo_born_01_pc = dsig_domega_born(M_X, mphi, alpha, q, point_charge=True)\n",
    "dsdq_born_01_pc = dsdo_born_01_pc * 2 * np.pi * q / (p**2)"
   ]
  },
  {
   "cell_type": "code",
   "execution_count": 155,
   "metadata": {},
   "outputs": [
    {
     "data": {
      "text/plain": [
       "<matplotlib.legend.Legend at 0x1ca59d71540>"
      ]
     },
     "execution_count": 155,
     "metadata": {},
     "output_type": "execute_result"
    },
    {
     "data": {
      "image/png": "[encoded data removed]",
      "text/plain": [
       "<Figure size 432x288 with 1 Axes>"
      ]
     },
     "metadata": {
      "needs_background": "light"
     },
     "output_type": "display_data"
    }
   ],
   "source": [
    "plt.plot(q/1e9, dsigdq_01_pc, ':', linewidth=2, label='Numerical Integration')\n",
    "plt.plot(q/1e9, dsdq_born_01_pc, '--', linewidth=2, label='Born')\n",
    "plt.yscale('log')\n",
    "plt.xlabel('q (GeV)')\n",
    "plt.ylabel('$d \\sigma /d q$')\n",
    "plt.legend(frameon=False)"
   ]
  },
  {
   "cell_type": "markdown",
   "metadata": {},
   "source": [
    "Now try massless mediator, finite radius sphere"
   ]
  },
  {
   "cell_type": "code",
   "execution_count": 166,
   "metadata": {},
   "outputs": [],
   "source": [
    "p, b, theta = b_theta(M_X, 0, alpha, v, point_charge=False)"
   ]
  },
  {
   "cell_type": "code",
   "execution_count": 168,
   "metadata": {
    "scrolled": true
   },
   "outputs": [
    {
     "data": {
      "image/png": "[encoded data removed]",
      "text/plain": [
       "<Figure size 432x288 with 1 Axes>"
      ]
     },
     "metadata": {
      "needs_background": "light"
     },
     "output_type": "display_data"
    }
   ],
   "source": [
    "plt.plot(b, theta)\n",
    "plt.xlabel('b')\n",
    "plt.ylabel(r'$\\theta(b)$')\n",
    "# plt.yscale('log')\n",
    "plt.xscale('log')"
   ]
  },
  {
   "cell_type": "code",
   "execution_count": 169,
   "metadata": {},
   "outputs": [],
   "source": [
    "q, dsigdq_0_finite = dsig_dq(p, pmax, b, theta)"
   ]
  },
  {
   "cell_type": "code",
   "execution_count": 170,
   "metadata": {},
   "outputs": [],
   "source": [
    "dsdo_born_0_finite = dsig_domega_born(M_X, 0, alpha, q, point_charge=False)\n",
    "dsdq_born_0_finite = dsdo_born_0_finite * 2 * np.pi * q / (p**2)"
   ]
  },
  {
   "cell_type": "code",
   "execution_count": 171,
   "metadata": {},
   "outputs": [
    {
     "data": {
      "text/plain": [
       "<matplotlib.legend.Legend at 0x1ca578ebbb0>"
      ]
     },
     "execution_count": 171,
     "metadata": {},
     "output_type": "execute_result"
    },
    {
     "data": {
      "image/png": "[encoded data removed]",
      "text/plain": [
       "<Figure size 432x288 with 1 Axes>"
      ]
     },
     "metadata": {
      "needs_background": "light"
     },
     "output_type": "display_data"
    }
   ],
   "source": [
    "plt.plot(q/1e9, dsigdq_0_finite, ':', linewidth=2, label='Numerical Integration')\n",
    "plt.plot(q/1e9, dsdq_born_0_finite, '-', linewidth=1, label='Born')\n",
    "\n",
    "# plt.xscale('log')\n",
    "plt.yscale('log')\n",
    "plt.xlabel('q (GeV)')\n",
    "plt.ylabel('$d \\sigma /d q$')\n",
    "plt.legend(frameon=False)"
   ]
  },
  {
   "cell_type": "markdown",
   "metadata": {},
   "source": [
    "Massive mediator, finite sphere"
   ]
  },
  {
   "cell_type": "code",
   "execution_count": 172,
   "metadata": {},
   "outputs": [],
   "source": [
    "mphi = 0.1\n",
    "p, b, theta = b_theta(M_X, mphi, alpha, v, point_charge=False)"
   ]
  },
  {
   "cell_type": "code",
   "execution_count": 174,
   "metadata": {},
   "outputs": [
    {
     "data": {
      "image/png": "[encoded data removed]",
      "text/plain": [
       "<Figure size 432x288 with 1 Axes>"
      ]
     },
     "metadata": {
      "needs_background": "light"
     },
     "output_type": "display_data"
    }
   ],
   "source": [
    "plt.plot(b, theta)\n",
    "plt.xlabel('b')\n",
    "plt.ylabel(r'$\\theta(b)$')\n",
    "plt.xscale('log')"
   ]
  },
  {
   "cell_type": "code",
   "execution_count": 175,
   "metadata": {},
   "outputs": [],
   "source": [
    "q, dsigdq_01_finite = dsig_dq(p, pmax, b, theta)"
   ]
  },
  {
   "cell_type": "code",
   "execution_count": 176,
   "metadata": {},
   "outputs": [],
   "source": [
    "dsdo_born_01_finite = dsig_domega_born(M_X, mphi, alpha, q, point_charge=False)\n",
    "dsdq_born_01_finite = dsdo_born_01_finite * 2 * np.pi * q / (p**2)"
   ]
  },
  {
   "cell_type": "code",
   "execution_count": 177,
   "metadata": {},
   "outputs": [
    {
     "data": {
      "text/plain": [
       "<matplotlib.legend.Legend at 0x1ca5a0ddf00>"
      ]
     },
     "execution_count": 177,
     "metadata": {},
     "output_type": "execute_result"
    },
    {
     "data": {
      "image/png": "[encoded data removed]",
      "text/plain": [
       "<Figure size 432x288 with 1 Axes>"
      ]
     },
     "metadata": {
      "needs_background": "light"
     },
     "output_type": "display_data"
    }
   ],
   "source": [
    "plt.plot(q/1e9, dsigdq_01_finite, ':', linewidth=2, label='Numerical Integration')\n",
    "plt.plot(q/1e9, dsdq_born_01_finite, '-', linewidth=1, label='Born')\n",
    "# plt.xscale('log')\n",
    "plt.yscale('log')\n",
    "plt.xlabel('q (GeV)')\n",
    "plt.ylabel('$d \\sigma /d q$')\n",
    "plt.legend(frameon=False)"
   ]
  }
 ],
 "metadata": {
  "kernelspec": {
   "display_name": "microspheres",
   "language": "python",
   "name": "microspheres"
  },
  "language_info": {
   "codemirror_mode": {
    "name": "ipython",
    "version": 3
   },
   "file_extension": ".py",
   "mimetype": "text/x-python",
   "name": "python",
   "nbconvert_exporter": "python",
   "pygments_lexer": "ipython3",
   "version": "3.10.2"
  }
 },
 "nbformat": 4,
 "nbformat_minor": 4
}
