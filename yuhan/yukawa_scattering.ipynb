{
 "cells": [
  {
   "cell_type": "code",
   "execution_count": 114,
   "metadata": {},
   "outputs": [],
   "source": [
    "import numpy as np\n",
    "from hankel import SymmetricFourierTransform\n",
    "\n",
    "import matplotlib.pyplot as plt"
   ]
  },
  {
   "cell_type": "code",
   "execution_count": 115,
   "metadata": {},
   "outputs": [],
   "source": [
    "hbarc = 0.2     # eV um\n",
    "rho_T = 2.0e3   # Sphere density, kg/m^3\n",
    "mAMU = 1.66e-27 # Neutron mass"
   ]
  },
  {
   "cell_type": "code",
   "execution_count": 116,
   "metadata": {},
   "outputs": [],
   "source": [
    "R_um = 5          # Sphere radius, um\n",
    "R = R_um / hbarc  # Radius in natural units, eV^-1\n",
    "\n",
    "N_T = 0.5 * ( 4/3 * np.pi * (R_um*1e-6)**3) * rho_T/mAMU # Number of neutrons\n",
    "res = 170e6       # detector resolution in eV\n",
    "\n",
    "q_thr = 0.05e9    # momentum threshold, eV"
   ]
  },
  {
   "cell_type": "code",
   "execution_count": 117,
   "metadata": {},
   "outputs": [],
   "source": [
    "M_X_in = 5e3         # GeV\n",
    "alpha_n_in = 1e-8    # Gev\n",
    "m_phi = 0.001        # Mediator mass, eV"
   ]
  },
  {
   "cell_type": "code",
   "execution_count": 118,
   "metadata": {},
   "outputs": [],
   "source": [
    "M_X = M_X_in * 1e9    # Dark matter nugget mass, eV (assumes mass in GeV given on command line)\n",
    "m_chi = 0.01 * 1e9    # eV\n",
    "N_chi = M_X / m_chi   # Number of dark matter particles in the nugget\n",
    "\n",
    "rhoDM = 0.3e9         # dark matter mass density, eV/cm^3\n",
    "mR = m_phi * R        # (= R/lambda), a useful length scale; now defiend in `vtot()`\n",
    "\n",
    "alpha_n = alpha_n_in  # Dimensionless single neutron-nugget coupling\n",
    "alpha = alpha_n * N_T # Coupling of the entire sphere"
   ]
  },
  {
   "cell_type": "code",
   "execution_count": 119,
   "metadata": {},
   "outputs": [],
   "source": [
    "vmin = 5e-5      # minimum velocity to consider, natural units (c)\n",
    "vesc = 1.815e-3  # galactic escape velocity\n",
    "v0 = 7.34e-4     # v0 parameter from Zurek group paper\n",
    "ve = 8.172e-4    # ve parameter from Zurek group paper"
   ]
  },
  {
   "cell_type": "code",
   "execution_count": null,
   "metadata": {},
   "outputs": [],
   "source": []
  },
  {
   "cell_type": "code",
   "execution_count": 120,
   "metadata": {},
   "outputs": [],
   "source": [
    "nvels = 2000      # number of velocities to include in integration\n",
    "vlist = np.linspace(vmin, vesc, nvels)\n",
    "\n",
    "pmax = np.max((vesc * M_X, 10e9))\n",
    "v = vlist[0]\n",
    "\n",
    "p = M_X * v            # DM initial momentum (eV)\n",
    "E = 1./2 * M_X * v**2  # Initial kinetic energy of incoming particle"
   ]
  },
  {
   "cell_type": "code",
   "execution_count": 45,
   "metadata": {},
   "outputs": [],
   "source": [
    "theta = np.linspace(0, np.pi, 2000)\n",
    "q = 2 * p * np.sin(theta / 2)\n",
    "u = 1 / m_phi"
   ]
  },
  {
   "cell_type": "code",
   "execution_count": 46,
   "metadata": {},
   "outputs": [],
   "source": [
    "dsig_domega = (4 * alpha**2 * M_X**2) / ((u**2 + q**2)**2)\n",
    "dsig_dq = dsig_domega * 2 * np.pi * q / (p*p)"
   ]
  },
  {
   "cell_type": "code",
   "execution_count": 47,
   "metadata": {},
   "outputs": [
    {
     "data": {
      "text/plain": [
       "9.949037516622063e+26"
      ]
     },
     "execution_count": 47,
     "metadata": {},
     "output_type": "execute_result"
    }
   ],
   "source": [
    "(4 * alpha**2 * M_X**2) / u**4"
   ]
  },
  {
   "cell_type": "code",
   "execution_count": 48,
   "metadata": {
    "scrolled": true
   },
   "outputs": [
    {
     "data": {
      "text/plain": [
       "[<matplotlib.lines.Line2D at 0x17b951926b0>]"
      ]
     },
     "execution_count": 48,
     "metadata": {},
     "output_type": "execute_result"
    },
    {
     "data": {
      "image/png": "[encoded data removed]",
      "text/plain": [
       "<Figure size 432x288 with 1 Axes>"
      ]
     },
     "metadata": {
      "needs_background": "light"
     },
     "output_type": "display_data"
    }
   ],
   "source": [
    "plt.plot(theta, dsig_domega)"
   ]
  },
  {
   "cell_type": "code",
   "execution_count": 49,
   "metadata": {
    "scrolled": true
   },
   "outputs": [
    {
     "data": {
      "text/plain": [
       "[<matplotlib.lines.Line2D at 0x17b952050f0>]"
      ]
     },
     "execution_count": 49,
     "metadata": {},
     "output_type": "execute_result"
    },
    {
     "data": {
      "image/png": "[encoded data removed]",
      "text/plain": [
       "<Figure size 432x288 with 1 Axes>"
      ]
     },
     "metadata": {
      "needs_background": "light"
     },
     "output_type": "display_data"
    }
   ],
   "source": [
    "plt.plot(q, dsig_dq)"
   ]
  },
  {
   "cell_type": "code",
   "execution_count": 82,
   "metadata": {},
   "outputs": [],
   "source": [
    "def vtot(u, m_phi, alpha):\n",
    "    \"\"\"Exact Yukawa potential for a uniform density sphere (vectorized version)\n",
    "    \n",
    "    Parameters\n",
    "    ----------\n",
    "    u : float, array-like\n",
    "        Distance inverse 1/r in eV\n",
    "    m_phi : float\n",
    "        Mediator mass in eV\n",
    "    alpha : float\n",
    "        Dimensionless DM coupling to the sphere\n",
    "        \n",
    "    Returns\n",
    "    -------\n",
    "    float, array-like\n",
    "        Potential V(u) for each u in eV\n",
    "    \"\"\"\n",
    "    mR = m_phi * R\n",
    "    \n",
    "    u = np.asarray(u)\n",
    "    ret = np.empty_like(u)\n",
    "    \n",
    "    # Devide the array of u=1/r into three cases\n",
    "    neg     = (u <= 0)   # ill-defined\n",
    "    outside = (u < 1/R)  # ouside sphere\n",
    "    inside  = (u >= 1/R) # inside sphere\n",
    "    \n",
    "    ret[neg] = np.inf\n",
    "    \n",
    "    if(mR > 0):   # massive mediator\n",
    "        ret[outside] = 3 * alpha/mR**3 * (mR * np.cosh(mR) - np.sinh(mR)) * np.exp(-m_phi/u[outside]) * u[outside]\n",
    "        ret[inside] = 3 * alpha/mR**3 * (m_phi - u[inside]*(1 + mR)/(1+1./np.tanh(mR)) * (np.sinh(m_phi/u[inside])/np.sinh(mR)))\n",
    "        \n",
    "    else:         # massless mediator (alpha/r)\n",
    "        ret[outside] = alpha * u[outside]\n",
    "        ret[inside] = alpha/2 * (3/R - 1./(R**3 * u[inside]**2))\n",
    "\n",
    "    return ret"
   ]
  },
  {
   "cell_type": "code",
   "execution_count": 51,
   "metadata": {
    "scrolled": false
   },
   "outputs": [
    {
     "data": {
      "text/plain": [
       "Text(0, 0.5, 'v(r)')"
      ]
     },
     "execution_count": 51,
     "metadata": {},
     "output_type": "execute_result"
    },
    {
     "data": {
      "image/png": "[encoded data removed]",
      "text/plain": [
       "<Figure size 432x288 with 1 Axes>"
      ]
     },
     "metadata": {
      "needs_background": "light"
     },
     "output_type": "display_data"
    }
   ],
   "source": [
    "# Plotting the potential\n",
    "r_um = np.linspace(1e-8, 100, 200)\n",
    "r = r_um / hbarc # convert to eV\n",
    "\n",
    "plt.plot(r_um, vtot(1/r, m_phi=0, alpha=alpha), label='$m_\\phi$ = 0 $eV$')\n",
    "plt.plot(r_um, vtot(1/r, m_phi=0.001, alpha=alpha), label='$m_\\phi$ = 0.001 $eV$')\n",
    "plt.plot(r_um, vtot(1/r, m_phi=0.01, alpha=alpha), label='$m_\\phi$ = 0.01 $eV$')\n",
    "plt.plot(r_um, vtot(1/r, m_phi=0.1, alpha=alpha), label='$m_\\phi$ = 0.1 $eV$')\n",
    "\n",
    "plt.title(fr'$m_\\chi$ = {M_X_in} GeV, $\\alpha$ = {alpha:.2f}')\n",
    "plt.legend(frameon=False)\n",
    "plt.xlabel('r (um)')\n",
    "plt.ylabel('v(r)')"
   ]
  },
  {
   "cell_type": "code",
   "execution_count": null,
   "metadata": {},
   "outputs": [],
   "source": []
  },
  {
   "cell_type": "code",
   "execution_count": 58,
   "metadata": {},
   "outputs": [],
   "source": [
    "alpha = 5\n",
    "mu = 0.0001"
   ]
  },
  {
   "cell_type": "code",
   "execution_count": 60,
   "metadata": {},
   "outputs": [
    {
     "name": "stdout",
     "output_type": "stream",
     "text": [
      "0.003125 [6.22366515e+09 6.28321021e-13] 1005\n"
     ]
    }
   ],
   "source": [
    "f = lambda r : alpha * np.exp(-1 * mu * r) * 1/r\n",
    "k = np.logspace(-5, 7, 1000)\n",
    "\n",
    "best_h, result, best_N = hankel.get_h(\n",
    "    f = lambda r : alpha * np.exp(-1 * mu * r) * 1/r, nu=3,\n",
    "    K= np.array([1e-5, 1e7]),\n",
    "    cls=SymmetricFourierTransform\n",
    ")\n",
    "print(best_h, result, best_N)"
   ]
  },
  {
   "cell_type": "code",
   "execution_count": 61,
   "metadata": {},
   "outputs": [],
   "source": [
    "ft = SymmetricFourierTransform(ndim=3, N=best_N, h=best_h)\n",
    "Fk = ft.transform(f, k, ret_err=False)"
   ]
  },
  {
   "cell_type": "code",
   "execution_count": 62,
   "metadata": {
    "scrolled": true
   },
   "outputs": [
    {
     "data": {
      "text/plain": [
       "[<matplotlib.lines.Line2D at 0x29e11ca1f00>]"
      ]
     },
     "execution_count": 62,
     "metadata": {},
     "output_type": "execute_result"
    },
    {
     "data": {
      "image/png": "[encoded data removed]",
      "text/plain": [
       "<Figure size 432x288 with 1 Axes>"
      ]
     },
     "metadata": {
      "needs_background": "light"
     },
     "output_type": "display_data"
    }
   ],
   "source": [
    "plt.loglog(k, Fk / (4*np.pi) )\n",
    "plt.loglog(k, alpha / (mu**2 + k**2))"
   ]
  },
  {
   "cell_type": "code",
   "execution_count": null,
   "metadata": {},
   "outputs": [],
   "source": []
  },
  {
   "cell_type": "code",
   "execution_count": 101,
   "metadata": {},
   "outputs": [],
   "source": [
    "def vtot_func(u, m_phi, alpha):\n",
    "    mR = m_phi * R\n",
    "    \n",
    "    if (u < 1/R):  # outside\n",
    "        return 3 * alpha/mR**3 * (mR * np.cosh(mR) - np.sinh(mR)) * np.exp(-m_phi / u) * u\n",
    "    else:          # inside\n",
    "        return 3 * alpha/mR**3 * (m_phi - u * (1 + mR) / (1 + 1./np.tanh(mR)) * (np.sinh(m_phi/u) / np.sinh(mR)))"
   ]
  },
  {
   "cell_type": "code",
   "execution_count": 103,
   "metadata": {},
   "outputs": [],
   "source": [
    "def f_yy(r):\n",
    "    return vtot(u=1/r, m_phi=0.0001, alpha=alpha)"
   ]
  },
  {
   "cell_type": "code",
   "execution_count": 151,
   "metadata": {},
   "outputs": [
    {
     "name": "stdout",
     "output_type": "stream",
     "text": [
      "0.05 -2.3858287743820394e-07 62\n"
     ]
    }
   ],
   "source": [
    "k = np.logspace(3, 10, 1000)\n",
    "\n",
    "best_h, result, best_N = hankel.get_h(\n",
    "    f=f_yy, \n",
    "    nu=3,\n",
    "    K=np.array(k.min(), k.max()),\n",
    "    cls=SymmetricFourierTransform\n",
    ")\n",
    "print(best_h, result, best_N)"
   ]
  },
  {
   "cell_type": "code",
   "execution_count": 143,
   "metadata": {},
   "outputs": [],
   "source": [
    "ft = SymmetricFourierTransform(ndim=3, N=best_N, h=best_h)\n",
    "Fk = ft.transform(f_yy, k, ret_err=False)"
   ]
  },
  {
   "cell_type": "code",
   "execution_count": 144,
   "metadata": {},
   "outputs": [],
   "source": [
    "dsig_domega = Fk * Fk * M_X * M_X / (4 * np.pi * np.pi)"
   ]
  },
  {
   "cell_type": "code",
   "execution_count": 145,
   "metadata": {},
   "outputs": [],
   "source": [
    "dsig_dq = (2 * np.pi * k / (p*p) ) * dsig_domega"
   ]
  },
  {
   "cell_type": "code",
   "execution_count": 146,
   "metadata": {},
   "outputs": [],
   "source": [
    "q_thr = 0.05e9 \n",
    "dsig_dq[k < q_thr] = 0"
   ]
  },
  {
   "cell_type": "code",
   "execution_count": 147,
   "metadata": {},
   "outputs": [
    {
     "data": {
      "text/plain": [
       "[<matplotlib.lines.Line2D at 0x29e132bc190>]"
      ]
     },
     "execution_count": 147,
     "metadata": {},
     "output_type": "execute_result"
    },
    {
     "data": {
      "image/png": "[encoded data removed]",
      "text/plain": [
       "<Figure size 432x288 with 1 Axes>"
      ]
     },
     "metadata": {
      "needs_background": "light"
     },
     "output_type": "display_data"
    }
   ],
   "source": [
    "plt.plot(k, dsig_dq)"
   ]
  },
  {
   "cell_type": "code",
   "execution_count": 107,
   "metadata": {},
   "outputs": [
    {
     "data": {
      "text/plain": [
       "25.0"
      ]
     },
     "execution_count": 107,
     "metadata": {},
     "output_type": "execute_result"
    }
   ],
   "source": [
    "5 / hbarc"
   ]
  }
 ],
 "metadata": {
  "kernelspec": {
   "display_name": "microspheres",
   "language": "python",
   "name": "microspheres"
  },
  "language_info": {
   "codemirror_mode": {
    "name": "ipython",
    "version": 3
   },
   "file_extension": ".py",
   "mimetype": "text/x-python",
   "name": "python",
   "nbconvert_exporter": "python",
   "pygments_lexer": "ipython3",
   "version": "3.10.2"
  }
 },
 "nbformat": 4,
 "nbformat_minor": 4
}
