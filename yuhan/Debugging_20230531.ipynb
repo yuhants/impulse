{
 "cells": [
  {
   "cell_type": "code",
   "execution_count": 1,
   "id": "a20d811e",
   "metadata": {},
   "outputs": [],
   "source": [
    "import numpy as np\n",
    "\n",
    "from scipy.optimize import minimize_scalar, newton, fsolve\n",
    "from scipy.integrate import quad\n",
    "import scipy.signal as sig\n",
    "from scipy.special import erf, spherical_jn\n",
    "from scipy.interpolate import CubicSpline, interp1d\n",
    "\n",
    "import matplotlib.pyplot as plt\n",
    "from nugget_rate_v2 import *"
   ]
  },
  {
   "cell_type": "code",
   "execution_count": 2,
   "id": "0cfeecd8",
   "metadata": {},
   "outputs": [],
   "source": [
    "## General Prameters\n",
    "hbarc = 0.2     # eV um\n",
    "rho_T = 2.0e3   # Sphere density, kg/m^3\n",
    "mAMU = 1.66e-27 # Neutron mass\n",
    "\n",
    "R_um = 5          # Sphere radius, um\n",
    "R = R_um / hbarc  # Radius in natural units, eV^-1\n",
    "N_T = 0.5 * ( 4/3 * np.pi * (R_um*1e-6)**3) * rho_T/mAMU # Number of neutrons\n",
    "res = 170e6       # detector resolution in eV\n",
    "q_thr = 0.05e9    # momentum threshold, eV\n",
    "\n",
    "## DM parameters\n",
    "# For DM velocity distribution\n",
    "vmin = 5e-5      # minimum velocity to consider, natural units (c)\n",
    "vesc = 1.815e-3  # galactic escape velocity\n",
    "v0 = 7.34e-4     # v0 parameter from Zurek group paper\n",
    "ve = 8.172e-4    # ve parameter from Zurek group paper"
   ]
  },
  {
   "cell_type": "code",
   "execution_count": null,
   "id": "3ff94e1b",
   "metadata": {},
   "outputs": [],
   "source": []
  },
  {
   "cell_type": "code",
   "execution_count": 3,
   "id": "1e02c929",
   "metadata": {},
   "outputs": [],
   "source": [
    "M_X_in = 5e3\n",
    "alpha_n_in = 1e-8\n",
    "m_phi = 1e-3\n",
    "point_charge = False"
   ]
  },
  {
   "cell_type": "code",
   "execution_count": 4,
   "id": "f8c6ce13",
   "metadata": {},
   "outputs": [],
   "source": [
    "M_X = M_X_in * 1e9    # Dark matter nugget mass, eV (assumes mass in GeV given on command line)\n",
    "m_chi = 0.01 * 1e9    # eV\n",
    "N_chi = M_X / m_chi   # Number of dark matter particles in the nugget\n",
    "\n",
    "rhoDM = 0.3e9         # dark matter mass density, eV/cm^3\n",
    "alpha_n = alpha_n_in  # Dimensionless single neutron-nugget coupling\n",
    "alpha = alpha_n * N_T # Coupling of the entire sphere\n",
    "mR = m_phi * R        # (= R/lambda), a useful length scale; now defiend in `vtot()`\n",
    "\n",
    "## Start calculation\n",
    "nvels = 2000      # Number of velocities to include in integration\n",
    "vlist = np.linspace(vmin, vesc, nvels)\n",
    "pmax = np.max((vesc * M_X, 10e9))"
   ]
  },
  {
   "cell_type": "code",
   "execution_count": 5,
   "id": "69408062",
   "metadata": {},
   "outputs": [],
   "source": [
    "verr = 0.0002654377188594297\n",
    "verr = vlist[ np.argmin(np.abs(vlist - verr)) ]"
   ]
  },
  {
   "cell_type": "code",
   "execution_count": 6,
   "id": "95d24ef3",
   "metadata": {
    "scrolled": true
   },
   "outputs": [
    {
     "name": "stderr",
     "output_type": "stream",
     "text": [
      "/vast/palmer/home.grace/yt388/microspheres/impulse/yuhan/nugget_rate_v2.py:144: RuntimeWarning: invalid value encountered in sqrt\n",
      "  return 1 / np.sqrt(first_term + second_term)\n",
      "/vast/palmer/home.grace/yt388/microspheres/impulse/yuhan/nugget_rate_v2.py:161: IntegrationWarning: The maximum number of subdivisions (50) has been achieved.\n",
      "  If increasing the limit yields no improvement it is advised to analyze \n",
      "  the integrand in order to determine the difficulties.  If the position of a \n",
      "  local difficulty can be determined (singularity, discontinuity) one will \n",
      "  probably gain from splitting up the interval and calling the integrator \n",
      "  on the subranges.  Perhaps a special-purpose integrator should be used.\n",
      "  Psi[i] = quad(integrand, 0, 1, args=(umax[i], E, _b, m_phi, alpha, point_charge))[0]\n"
     ]
    }
   ],
   "source": [
    "p, b, theta = b_theta(M_X, m_phi, alpha, verr, point_charge)"
   ]
  },
  {
   "cell_type": "code",
   "execution_count": 7,
   "id": "6725c09e",
   "metadata": {},
   "outputs": [
    {
     "data": {
      "image/png": "[encoded data removed]",
      "text/plain": [
       "<Figure size 640x480 with 1 Axes>"
      ]
     },
     "metadata": {},
     "output_type": "display_data"
    }
   ],
   "source": [
    "plt.plot(b, theta)\n",
    "plt.xscale('log')"
   ]
  },
  {
   "cell_type": "code",
   "execution_count": null,
   "id": "cc1da4e7",
   "metadata": {},
   "outputs": [],
   "source": []
  },
  {
   "cell_type": "code",
   "execution_count": 10,
   "id": "b1b38f12",
   "metadata": {},
   "outputs": [],
   "source": [
    "# Take care of nan in theta from integration\n",
    "not_nan = np.logical_not(np.isnan(theta))\n",
    "b = b[not_nan]\n",
    "theta = theta[not_nan]\n",
    "\n",
    "# Most of the time there is a maximum point\n",
    "# in the theta-b plot\n",
    "# Split contribution above and below critical point\n",
    "bcidx = np.argmax(theta)\n",
    "bcrit = b[bcidx]\n",
    "\n",
    "## now need the cross section above and below bcrit\n",
    "b1, t1 = b[:bcidx], theta[:bcidx]\n",
    "b2, t2 = b[bcidx:], theta[bcidx:]\n",
    "\n",
    "q1 = p * np.sqrt( 2*(1-np.cos(t1)) )\n",
    "q2 = p * np.sqrt( 2*(1-np.cos(t2)) )\n",
    "q = p * np.sqrt( 2*(1-np.cos(theta)) )"
   ]
  },
  {
   "cell_type": "code",
   "execution_count": 12,
   "id": "159b3bff",
   "metadata": {},
   "outputs": [],
   "source": [
    "q_lin = np.linspace(0, 2*pmax*1.1, 10000)\n",
    "if(len(b1) > 1 ):\n",
    "    q1_sorted, q1_idx = np.unique(q1, return_index=True)\n",
    "    b1_cubic = CubicSpline(q1[q1_idx], b1[q1_idx])(q1[q1_idx])\n",
    "    db1 = np.abs(np.gradient(b1_cubic, q1[q1_idx]))\n",
    "\n",
    "q2_sorted, q2_idx = np.unique(q2, return_index=True)\n",
    "b2_cubic = CubicSpline(q2[q2_idx], b2[q2_idx])(q2[q2_idx])\n",
    "db2 = np.abs(np.gradient(b2_cubic, q2[q2_idx]))"
   ]
  },
  {
   "cell_type": "code",
   "execution_count": 14,
   "id": "2143a72b",
   "metadata": {},
   "outputs": [
    {
     "data": {
      "text/plain": [
       "(1679,)"
      ]
     },
     "execution_count": 14,
     "metadata": {},
     "output_type": "execute_result"
    }
   ],
   "source": [
    "q2_sorted.shape"
   ]
  },
  {
   "cell_type": "code",
   "execution_count": null,
   "id": "f7141290",
   "metadata": {},
   "outputs": [],
   "source": []
  },
  {
   "cell_type": "code",
   "execution_count": 8,
   "id": "0ff685fe",
   "metadata": {
    "scrolled": false
   },
   "outputs": [],
   "source": [
    "qq, dsdq = dsig_dq(p, pmax, b, theta)"
   ]
  },
  {
   "cell_type": "code",
   "execution_count": 9,
   "id": "177e7455",
   "metadata": {},
   "outputs": [
    {
     "data": {
      "text/plain": [
       "[<matplotlib.lines.Line2D at 0x2b74e3752ad0>]"
      ]
     },
     "execution_count": 9,
     "metadata": {},
     "output_type": "execute_result"
    },
    {
     "data": {
      "image/png": "[encoded data removed]",
      "text/plain": [
       "<Figure size 640x480 with 1 Axes>"
      ]
     },
     "metadata": {},
     "output_type": "display_data"
    }
   ],
   "source": [
    "plt.plot(qq, dsdq)"
   ]
  },
  {
   "cell_type": "code",
   "execution_count": null,
   "id": "3546c897",
   "metadata": {},
   "outputs": [],
   "source": []
  },
  {
   "cell_type": "code",
   "execution_count": null,
   "id": "1d70f8fc",
   "metadata": {},
   "outputs": [],
   "source": [
    "bcidx = np.argmax(theta)\n",
    "bcrit = b[bcidx]\n",
    "\n",
    "## now need the cross section above and below bcrit\n",
    "b1, t1 = b[:bcidx], theta[:bcidx]\n",
    "b2, t2 = b[bcidx:], theta[bcidx:]\n",
    "\n",
    "q1 = p * np.sqrt( 2*(1-np.cos(t1)) )\n",
    "q2 = p * np.sqrt( 2*(1-np.cos(t2)) )\n",
    "q = p * np.sqrt( 2*(1-np.cos(theta)) )"
   ]
  },
  {
   "cell_type": "code",
   "execution_count": null,
   "id": "eea0c4cb",
   "metadata": {},
   "outputs": [],
   "source": [
    "t2"
   ]
  },
  {
   "cell_type": "code",
   "execution_count": null,
   "id": "845e3623",
   "metadata": {},
   "outputs": [],
   "source": [
    "plt.plot(b1, t1)\n",
    "plt.xscale('log')"
   ]
  },
  {
   "cell_type": "code",
   "execution_count": null,
   "id": "cd2aaa60",
   "metadata": {},
   "outputs": [],
   "source": [
    "b[np.logical_not(np.isnan(theta))].shape"
   ]
  },
  {
   "cell_type": "code",
   "execution_count": null,
   "id": "d24f22fc",
   "metadata": {},
   "outputs": [],
   "source": []
  }
 ],
 "metadata": {
  "kernelspec": {
   "display_name": "Python 3 (ipykernel)",
   "language": "python",
   "name": "python3"
  },
  "language_info": {
   "codemirror_mode": {
    "name": "ipython",
    "version": 3
   },
   "file_extension": ".py",
   "mimetype": "text/x-python",
   "name": "python",
   "nbconvert_exporter": "python",
   "pygments_lexer": "ipython3",
   "version": "3.11.0"
  }
 },
 "nbformat": 4,
 "nbformat_minor": 5
}
