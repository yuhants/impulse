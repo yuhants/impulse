{
 "cells": [
  {
   "cell_type": "code",
   "execution_count": 1,
   "metadata": {},
   "outputs": [],
   "source": [
    "import sys, os\n",
    "import numpy as np\n",
    "\n",
    "from scipy.optimize import minimize_scalar, newton\n",
    "from scipy.integrate import quad\n",
    "import scipy.signal as sig\n",
    "from scipy.special import erf\n",
    "\n",
    "import matplotlib.pyplot as plt\n",
    "import matplotlib.colors as colors\n",
    "import matplotlib.cm as cmx"
   ]
  },
  {
   "cell_type": "markdown",
   "metadata": {},
   "source": [
    "*Note.* For concreteness, we calculate the differential rate $dR/dq$ for a fixed DM mass, coupling, and mediator mass."
   ]
  },
  {
   "cell_type": "markdown",
   "metadata": {},
   "source": [
    "## Parameters"
   ]
  },
  {
   "cell_type": "code",
   "execution_count": 2,
   "metadata": {},
   "outputs": [],
   "source": [
    "hbarc = 0.2     # eV um\n",
    "rho_T = 2.0e3   # Sphere density, kg/m^3\n",
    "mAMU = 1.66e-27 # Neutron mass"
   ]
  },
  {
   "cell_type": "markdown",
   "metadata": {},
   "source": [
    "### Experiment parameters"
   ]
  },
  {
   "cell_type": "code",
   "execution_count": 3,
   "metadata": {},
   "outputs": [],
   "source": [
    "R_um = 5          # Sphere radius, um\n",
    "R = R_um / hbarc  # Radius in natural units, eV^-1\n",
    "\n",
    "N_T = 0.5 * ( 4/3 * np.pi * (R_um*1e-6)**3) * rho_T/mAMU # Number of neutrons\n",
    "res = 170e6       # detector resolution in eV\n",
    "\n",
    "q_thr = 0.05e9    # momentum threshold, eV"
   ]
  },
  {
   "cell_type": "markdown",
   "metadata": {},
   "source": [
    "### DM parameters"
   ]
  },
  {
   "cell_type": "code",
   "execution_count": 4,
   "metadata": {},
   "outputs": [],
   "source": [
    "M_X_in = 5e3         # GeV\n",
    "alpha_n_in = 1e-8    # Gev\n",
    "m_phi = 0.0001       # Mediator mass, eV"
   ]
  },
  {
   "cell_type": "code",
   "execution_count": 5,
   "metadata": {},
   "outputs": [],
   "source": [
    "M_X = M_X_in * 1e9   # Dark matter nugget mass, eV (assumes mass in GeV given on command line)\n",
    "m_chi = 0.01 * 1e9   # eV\n",
    "N_chi = M_X / m_chi  # Number of dark matter particles in the nugget\n",
    "\n",
    "rhoDM = 0.3e9        # dark matter mass density, eV/cm^3\n",
    "\n",
    "alpha_n = alpha_n_in # Dimensionless single neutron-nugget coupling\n",
    "alpha = alpha_n * N_T # Coupling of the entire sphere\n",
    "mR = m_phi * R        # (= R/lambda), a useful length scale; now defiend in `vtot()`"
   ]
  },
  {
   "cell_type": "markdown",
   "metadata": {},
   "source": [
    "Some parameters related to DM velocity distribution."
   ]
  },
  {
   "cell_type": "code",
   "execution_count": 6,
   "metadata": {},
   "outputs": [],
   "source": [
    "vmin = 5e-5      # minimum velocity to consider, natural units (c)\n",
    "vesc = 1.815e-3  # galactic escape velocity\n",
    "v0 = 7.34e-4     # v0 parameter from Zurek group paper\n",
    "ve = 8.172e-4    # ve parameter from Zurek group paper"
   ]
  },
  {
   "cell_type": "markdown",
   "metadata": {},
   "source": [
    "## Defining functions"
   ]
  },
  {
   "cell_type": "markdown",
   "metadata": {},
   "source": [
    "### Yukawa potential"
   ]
  },
  {
   "cell_type": "code",
   "execution_count": 7,
   "metadata": {},
   "outputs": [],
   "source": [
    "def vtot_func(u, m_phi=m_phi, alpha=alpha):\n",
    "    \"\"\"Exact Yukawa potential for a uniform density sphere\n",
    "    \n",
    "    Parameters\n",
    "    ----------\n",
    "    u : float\n",
    "        Distance inverse 1/r in eV\n",
    "    m_phi : float\n",
    "        Mediator mass in eV\n",
    "    alpha : float\n",
    "        Dimensionless DM coupling to the sphere\n",
    "        \n",
    "    Returns\n",
    "    -------\n",
    "    float\n",
    "        Potential V(u) in eV\n",
    "    \"\"\"\n",
    "    mR = m_phi * R\n",
    "    \n",
    "    # Devide the array of u=1/r into three cases\n",
    "    if (u < 1e-10) : return np.inf\n",
    "    \n",
    "    if (u < 1/R):  # outside\n",
    "        return 3 * alpha/mR**3 * (mR * np.cosh(mR) - np.sinh(mR)) * np.exp(-m_phi/u) * u\n",
    "    \n",
    "    else:          # inside\n",
    "        return 3 * alpha/mR**3 * (m_phi - u*(1 + mR)/(1+1./np.tanh(mR)) * (np.sinh(m_phi/u)/np.sinh(mR)))"
   ]
  },
  {
   "cell_type": "code",
   "execution_count": 8,
   "metadata": {},
   "outputs": [],
   "source": [
    "def vtot(u, m_phi=m_phi, alpha=alpha):\n",
    "    \"\"\"Exact Yukawa potential for a uniform density sphere\n",
    "    \n",
    "    Parameters\n",
    "    ----------\n",
    "    u : float, array-like\n",
    "        Distance inverse 1/r in eV\n",
    "    m_phi : float\n",
    "        Mediator mass in eV\n",
    "    alpha : float\n",
    "        Dimensionless DM coupling to the sphere\n",
    "        \n",
    "    Returns\n",
    "    -------\n",
    "    float, array-like\n",
    "        Potential V(u) for each u in eV\n",
    "    \"\"\"\n",
    "    mR = m_phi * R\n",
    "    \n",
    "    u = np.asarray(u)\n",
    "    ret = np.empty_like(u)\n",
    "    \n",
    "    # Devide the array of u=1/r into three cases\n",
    "    neg     = (u <= 0)   # ill-defined\n",
    "    outside = (u < 1/R)  # ouside sphere\n",
    "    inside  = (u >= 1/R) # inside sphere\n",
    "    \n",
    "    ret[neg] = np.inf\n",
    "    \n",
    "    if(mR > 0):   # massive mediator\n",
    "        ret[outside] = 3 * alpha/mR**3 * (mR * np.cosh(mR) - np.sinh(mR)) * np.exp(-m_phi/u[outside]) * u[outside]\n",
    "        ret[inside] = 3 * alpha/mR**3 * (m_phi - u[inside]*(1 + mR)/(1+1./np.tanh(mR)) * (np.sinh(m_phi/u[inside])/np.sinh(mR)))\n",
    "        \n",
    "    else:         # massless mediator (alpha/r)\n",
    "        ret[outside] = alpha * u[outside]\n",
    "        ret[inside] = alpha/2 * (3/R - 1./(R**3 * u[inside]**2))\n",
    "\n",
    "    return ret"
   ]
  },
  {
   "cell_type": "code",
   "execution_count": 9,
   "metadata": {},
   "outputs": [
    {
     "data": {
      "text/plain": [
       "Text(0, 0.5, 'v(r)')"
      ]
     },
     "execution_count": 9,
     "metadata": {},
     "output_type": "execute_result"
    },
    {
     "data": {
      "image/png": "[encoded data removed]",
      "text/plain": [
       "<Figure size 432x288 with 1 Axes>"
      ]
     },
     "metadata": {
      "needs_background": "light"
     },
     "output_type": "display_data"
    }
   ],
   "source": [
    "# Plotting the potential\n",
    "r_um = np.linspace(1e-8, 100, 200)\n",
    "r = r_um / hbarc # convert to eV\n",
    "\n",
    "plt.plot(r_um, vtot(1/r, m_phi=0), label='$m_\\phi$ = 0 $eV$')\n",
    "plt.plot(r_um, vtot(1/r, m_phi=0.001), label='$m_\\phi$ = 0.001 $eV$')\n",
    "plt.plot(r_um, vtot(1/r, m_phi=0.01), label='$m_\\phi$ = 0.01 $eV$')\n",
    "plt.plot(r_um, vtot(1/r, m_phi=0.1), label='$m_\\phi$ = 0.1 $eV$')\n",
    "\n",
    "plt.title(fr'$m_\\chi$ = {M_X_in} GeV, $\\alpha$ = {alpha:.2f}')\n",
    "plt.legend(frameon=False)\n",
    "plt.xlabel('r (um)')\n",
    "plt.ylabel('v(r)')"
   ]
  },
  {
   "cell_type": "markdown",
   "metadata": {},
   "source": [
    "### Other functions (not organized yet)"
   ]
  },
  {
   "cell_type": "code",
   "execution_count": 59,
   "metadata": {},
   "outputs": [],
   "source": [
    "def get_color_map(n):\n",
    "    jet = plt.get_cmap('jet') \n",
    "    cNorm  = colors.Normalize(vmin=0, vmax=n-1)\n",
    "    scalarMap = cmx.ScalarMappable(norm=cNorm, cmap=jet)\n",
    "    outmap = []\n",
    "    for i in range(n):\n",
    "        outmap.append( scalarMap.to_rgba(i) )\n",
    "    return outmap\n",
    "\n",
    "## function used to smear the spectrum with gaussian resolution\n",
    "def res_fun( x, sig ):\n",
    "    return 1.0/(sig * np.sqrt(2*np.pi)) * np.exp(-0.5*(x/sig)**2)"
   ]
  },
  {
   "cell_type": "markdown",
   "metadata": {},
   "source": [
    "## Calculate the differential cross section $\\frac{d\\sigma}{dq}$"
   ]
  },
  {
   "cell_type": "markdown",
   "metadata": {},
   "source": [
    "We calculate the cross section for a single dark matter velocity $v$, and then integrate over the dark matter velocity distribution later."
   ]
  },
  {
   "cell_type": "code",
   "execution_count": 13,
   "metadata": {},
   "outputs": [],
   "source": [
    "nvels = 2000      # number of velocities to include in integration\n",
    "vlist = np.linspace(vmin, vesc, nvels)\n",
    "\n",
    "pmax = np.max((vesc * M_X, 10e9))\n",
    "#cmap = get_color_map(nvels)"
   ]
  },
  {
   "cell_type": "code",
   "execution_count": 14,
   "metadata": {},
   "outputs": [],
   "source": [
    "v = vlist[0]"
   ]
  },
  {
   "cell_type": "markdown",
   "metadata": {},
   "source": [
    "Make a list of impact parameters over which to calculate the scattering angle"
   ]
  },
  {
   "cell_type": "code",
   "execution_count": 15,
   "metadata": {},
   "outputs": [],
   "source": [
    "if(m_phi > 0):\n",
    "    b_um = np.logspace(-3, 3, 2000)\n",
    "else:\n",
    "    b_um = np.logspace(-3, 5, 2000)"
   ]
  },
  {
   "cell_type": "code",
   "execution_count": 39,
   "metadata": {},
   "outputs": [],
   "source": [
    "p = M_X * v            # DM initial momentum (eV)\n",
    "E = 1./2 * M_X * v**2  # Initial kinetic energy of incoming particle\n",
    "\n",
    "b = b_um / hbarc       # Impact factor (eV^-1)"
   ]
  },
  {
   "cell_type": "markdown",
   "metadata": {},
   "source": [
    "### Shortest distance"
   ]
  },
  {
   "cell_type": "markdown",
   "metadata": {},
   "source": [
    "Calculate the distance of shortest approach (maximum $u$) for each impact parameter $b$. This would be the upper limit when integrating over $u$ to get the scattering angle for each $b$."
   ]
  },
  {
   "cell_type": "markdown",
   "metadata": {},
   "source": [
    "Maximum $u$ can be found by solving the equation\n",
    "$$\n",
    "    1 - b^2 u^2_\\text{max} - \\frac{V(u_\\text{max})}{E_\\text{cm}} = 0.\n",
    "$$"
   ]
  },
  {
   "cell_type": "markdown",
   "metadata": {},
   "source": [
    "There is an analytic formula in Dave's code but it's unclear to me whether it's correct. It seems like it's the first-order \"perturbative\" solution assuming $r = 1/u \\approx b$."
   ]
  },
  {
   "cell_type": "code",
   "execution_count": 17,
   "metadata": {},
   "outputs": [],
   "source": [
    "def max_u_analytic(E, b, m_phi=m_phi, alpha=alpha):\n",
    "    \"\"\"Maximum u (minimum r) during the scattering from analytic formua\n",
    "    \n",
    "    Parameters\n",
    "    ----------\n",
    "    E : float, array-like\n",
    "        CM energy in eV\n",
    "    b : float, array-like\n",
    "        Impact parameter in eV^-1\n",
    "        \n",
    "    Returns\n",
    "    -------\n",
    "    m * n array\n",
    "        Max u value. m = dim(E), n = dim(b)\n",
    "    \"\"\"\n",
    "    mR = m_phi * R\n",
    "    \n",
    "    E, b = np.asarray(E), np.asarray(b)\n",
    "    EE, bb = np.meshgrid(E, b)\n",
    "    \n",
    "    min_r = np.empty_like(EE)\n",
    "    \n",
    "    inside  = (bb < R)\n",
    "    outside = (bb >= R)\n",
    "    \n",
    "    # TODO\n",
    "    # It seems like the formula breaks down when E is relatively small\n",
    "    if mR > 0:  # massive mediator\n",
    "        min_r[inside]  = bb[inside] * np.sqrt(EE[inside]) / np.sqrt(EE[inside] - ((3*alpha)/(mR**3)*(m_phi - ((1 + mR)*np.sinh(m_phi*bb[inside])/np.sinh(mR))/(bb[inside]*(1+1/np.tanh(mR))))))\n",
    "        min_r[outside] = bb[outside] * np.sqrt(EE[outside]) / np.sqrt(EE[outside] - (3*alpha*np.exp(-m_phi*bb[outside]))/(bb[outside] * mR**3) * (mR*np.cosh(mR)-np.sinh(mR)))\n",
    "    else:       # massless mediator TODO\n",
    "        pass\n",
    "    \n",
    "    return 1. / min_r"
   ]
  },
  {
   "cell_type": "markdown",
   "metadata": {},
   "source": [
    "Alternatively, we can numerically solve the equation:"
   ]
  },
  {
   "cell_type": "code",
   "execution_count": 18,
   "metadata": {},
   "outputs": [],
   "source": [
    "def max_u_func(u, b, E):\n",
    "    return 1 - (b*u)**2 - vtot(u) / E\n",
    "\n",
    "def max_u_numerical(E, b, m_phi=m_phi, alpha=alpha):    \n",
    "    \"\"\"Numerical solution of maximum u during the scattering\n",
    "    \n",
    "    Parameters\n",
    "    ----------\n",
    "    E : float\n",
    "        CM energy in eV\n",
    "    b : float, array-like\n",
    "        Impact parameter in eV^-1\n",
    "        \n",
    "    Returns\n",
    "    -------\n",
    "    1 * n array\n",
    "        Max u value. n = dim(b)\n",
    "    \"\"\"\n",
    "    max_u = newton(max_u_func, x0=b, args=(b,E))\n",
    "    return max_u"
   ]
  },
  {
   "cell_type": "markdown",
   "metadata": {},
   "source": [
    "Comparing the two approches, they differ when $b$ is small. It makes sense to me to use the numerical solution."
   ]
  },
  {
   "cell_type": "code",
   "execution_count": 19,
   "metadata": {
    "scrolled": false
   },
   "outputs": [
    {
     "name": "stderr",
     "output_type": "stream",
     "text": [
      "C:\\Users\\yuhan\\AppData\\Local\\Temp\\ipykernel_17780\\1436004733.py:29: RuntimeWarning: invalid value encountered in sqrt\n",
      "  min_r[inside]  = bb[inside] * np.sqrt(EE[inside]) / np.sqrt(EE[inside] - ((3*alpha)/(mR**3)*(m_phi - ((1 + mR)*np.sinh(m_phi*bb[inside])/np.sinh(mR))/(bb[inside]*(1+1/np.tanh(mR))))))\n",
      "C:\\Users\\yuhan\\AppData\\Local\\Temp\\ipykernel_17780\\1436004733.py:30: RuntimeWarning: invalid value encountered in sqrt\n",
      "  min_r[outside] = bb[outside] * np.sqrt(EE[outside]) / np.sqrt(EE[outside] - (3*alpha*np.exp(-m_phi*bb[outside]))/(bb[outside] * mR**3) * (mR*np.cosh(mR)-np.sinh(mR)))\n"
     ]
    },
    {
     "data": {
      "text/plain": [
       "Text(0, 0.5, 'Max u (um)')"
      ]
     },
     "execution_count": 19,
     "metadata": {},
     "output_type": "execute_result"
    },
    {
     "data": {
      "image/png": "[encoded data removed]",
      "text/plain": [
       "<Figure size 432x288 with 1 Axes>"
      ]
     },
     "metadata": {
      "needs_background": "light"
     },
     "output_type": "display_data"
    }
   ],
   "source": [
    "plt.plot(b*hbarc, max_u_analytic(E, b)*hbarc)\n",
    "plt.plot(b*hbarc, max_u_numerical(E, b)*hbarc)\n",
    "\n",
    "plt.title(fr'$E$ = {E:.2f} eV')\n",
    "plt.xlabel('b (um)')\n",
    "plt.ylabel('Max u (um)')"
   ]
  },
  {
   "cell_type": "code",
   "execution_count": 20,
   "metadata": {},
   "outputs": [],
   "source": [
    "max_u = max_u_numerical(E, b)"
   ]
  },
  {
   "cell_type": "markdown",
   "metadata": {},
   "source": [
    "### Integrate for scattering angle"
   ]
  },
  {
   "cell_type": "markdown",
   "metadata": {},
   "source": [
    "To calculate the scattering angle $\\Theta$ as a function of DM energy $E$ and impact parameter $b$, we will use the following formula\n",
    "$$\n",
    "\\begin{aligned}\n",
    "    \\Psi(b) &= \\int_{r_\\text{min}}^\\infty \\frac{(b/r^2) dr}{\\sqrt{(1 - V(r)/E_\\text{cm} - b^2/r^2)}} \\\\\n",
    "              &= \\int_0^{u_\\text{max}} \\frac{b du}{\\sqrt{(1 - V(u)/E_\\text{cm} - b^2u^2)}},\n",
    "\\end{aligned}\n",
    "$$\n",
    "where $\\Psi$ is the change of angle when moving through the central force field and $E_\\text{cm}$ is the total energy in the CM frame (equals to DM kinetic energy).\n",
    "\n",
    "The scattering angle is\n",
    "$$\n",
    "    \\Theta(b) = \\pi - 2 \\cdot \\Psi(b).\n",
    "$$\n",
    "This is actually the scattering angle in the CM frame, but we assume the sphere is very heavy so it's the same as $\\theta$, the scattering angle in the lab frame."
   ]
  },
  {
   "cell_type": "code",
   "execution_count": 21,
   "metadata": {},
   "outputs": [],
   "source": [
    "from scipy.integrate import quad_vec\n",
    "\n",
    "def integrand(u, E, _b):\n",
    "    \"\"\"\n",
    "    Integrand for scattering angle calculation\n",
    "    \n",
    "    Parameters\n",
    "    ----------\n",
    "    u : float\n",
    "    E : float\n",
    "        CM energy in eV\n",
    "    _b : float\n",
    "        Impact parameter in eV^-1\n",
    "        \n",
    "    Returns\n",
    "    -------\n",
    "    float\n",
    "        Max u value.\n",
    "    \n",
    "    \"\"\"    \n",
    "    sval = 1 - vtot_func(u)/E - (_b*u)**2\n",
    "    if sval < 1e-10:  # cut off bad values that should be zero\n",
    "        sval= np.inf\n",
    "\n",
    "    integ = _b / np.sqrt(sval)\n",
    "    return integ"
   ]
  },
  {
   "cell_type": "markdown",
   "metadata": {},
   "source": [
    "Check the behavior of the integrand (the integrand seems to hit numerical issues when approaching umax)"
   ]
  },
  {
   "cell_type": "code",
   "execution_count": 22,
   "metadata": {
    "scrolled": true
   },
   "outputs": [
    {
     "data": {
      "image/png": "[encoded data removed]",
      "text/plain": [
       "<Figure size 432x288 with 1 Axes>"
      ]
     },
     "metadata": {
      "needs_background": "light"
     },
     "output_type": "display_data"
    }
   ],
   "source": [
    "idx = [0]\n",
    "for i in idx:\n",
    "    _b = b[i]\n",
    "    umax = max_u[i]\n",
    "    \n",
    "    ulist = np.linspace(0, umax, 2000)\n",
    "    integ = np.empty_like(ulist)\n",
    "    for i, u in enumerate(ulist):\n",
    "        integ[i] = integrand(u, E, _b)\n",
    "    plt.plot(ulist, integ)"
   ]
  },
  {
   "cell_type": "code",
   "execution_count": 31,
   "metadata": {},
   "outputs": [],
   "source": [
    "Psi = np.empty_like(b)\n",
    "for i, _b in enumerate(b):\n",
    "    umax = max_u[i]\n",
    "    _b = b[i]\n",
    "    Psi[i] = quad(integrand, 0, umax, args=(E, _b))[0]"
   ]
  },
  {
   "cell_type": "code",
   "execution_count": 32,
   "metadata": {},
   "outputs": [],
   "source": [
    "theta = np.pi - 2 * Psi"
   ]
  },
  {
   "cell_type": "code",
   "execution_count": 34,
   "metadata": {
    "scrolled": false
   },
   "outputs": [
    {
     "data": {
      "text/plain": [
       "Text(0, 0.5, '$\\\\theta(b)$')"
      ]
     },
     "execution_count": 34,
     "metadata": {},
     "output_type": "execute_result"
    },
    {
     "data": {
      "image/png": "[encoded data removed]",
      "text/plain": [
       "<Figure size 432x288 with 1 Axes>"
      ]
     },
     "metadata": {
      "needs_background": "light"
     },
     "output_type": "display_data"
    }
   ],
   "source": [
    "plt.plot(b*hbarc, theta)\n",
    "plt.xlabel('b (um)')\n",
    "plt.ylabel(r'$\\theta(b)$')"
   ]
  },
  {
   "cell_type": "markdown",
   "metadata": {},
   "source": [
    "Check the result with Dave's code"
   ]
  },
  {
   "cell_type": "code",
   "execution_count": 56,
   "metadata": {},
   "outputs": [
    {
     "name": "stderr",
     "output_type": "stream",
     "text": [
      "C:\\Users\\yuhan\\AppData\\Local\\Temp\\ipykernel_17780\\209281117.py:64: IntegrationWarning: The algorithm does not converge.  Roundoff error is detected\n",
      "  in the extrapolation table.  It is assumed that the requested tolerance\n",
      "  cannot be achieved, and that the returned result (if full_output = 1) is \n",
      "  the best which can be obtained.\n",
      "  int_res1_check = quad(integ_out, 0, min_u, args=(b,E))\n",
      "C:\\Users\\yuhan\\AppData\\Local\\Temp\\ipykernel_17780\\209281117.py:59: IntegrationWarning: The algorithm does not converge.  Roundoff error is detected\n",
      "  in the extrapolation table.  It is assumed that the requested tolerance\n",
      "  cannot be achieved, and that the returned result (if full_output = 1) is \n",
      "  the best which can be obtained.\n",
      "  int_res2 = quad(integ, min_u*0.9, min_u, args=(b,E)) #, limit=1000, full_output=1)\n",
      "C:\\Users\\yuhan\\AppData\\Local\\Temp\\ipykernel_17780\\209281117.py:59: IntegrationWarning: Extremely bad integrand behavior occurs at some points of the\n",
      "  integration interval.\n",
      "  int_res2 = quad(integ, min_u*0.9, min_u, args=(b,E)) #, limit=1000, full_output=1)\n",
      "C:\\Users\\yuhan\\AppData\\Local\\Temp\\ipykernel_17780\\209281117.py:36: RuntimeWarning: invalid value encountered in sqrt\n",
      "  return b/np.sqrt(1 - sval/E - (b*u)**2)\n",
      "C:\\Users\\yuhan\\AppData\\Local\\Temp\\ipykernel_17780\\209281117.py:64: IntegrationWarning: The occurrence of roundoff error is detected, which prevents \n",
      "  the requested tolerance from being achieved.  The error may be \n",
      "  underestimated.\n",
      "  int_res1_check = quad(integ_out, 0, min_u, args=(b,E))\n",
      "C:\\Users\\yuhan\\AppData\\Local\\Temp\\ipykernel_17780\\209281117.py:59: IntegrationWarning: The maximum number of subdivisions (50) has been achieved.\n",
      "  If increasing the limit yields no improvement it is advised to analyze \n",
      "  the integrand in order to determine the difficulties.  If the position of a \n",
      "  local difficulty can be determined (singularity, discontinuity) one will \n",
      "  probably gain from splitting up the interval and calling the integrator \n",
      "  on the subranges.  Perhaps a special-purpose integrator should be used.\n",
      "  int_res2 = quad(integ, min_u*0.9, min_u, args=(b,E)) #, limit=1000, full_output=1)\n"
     ]
    }
   ],
   "source": [
    "bvec = b\n",
    "Psi_dave = np.empty_like(b)\n",
    "\n",
    "def vtot_dave(u):\n",
    "    if(u <= 0):\n",
    "        return np.inf\n",
    "    elif(u < 1/R):\n",
    "        if(mR > 0):\n",
    "            return 3*alpha/mR**3 * (mR * np.cosh(mR) - np.sinh(mR)) * np.exp(-m_phi/u) * u\n",
    "        else:\n",
    "            return alpha * u\n",
    "    else:\n",
    "        if(mR > 0):\n",
    "            return 3*alpha/mR**3 * (m_phi - u*(1 + mR)/(1+1./np.tanh(mR)) * (np.sinh(m_phi/u)/np.sinh(mR)))\n",
    "        else:\n",
    "            return alpha/2 * (3/R - 1./(R**3 * u**2)) \n",
    "        \n",
    "## integrand needed for finding the scattering angle as a function of impact parameter\n",
    "def integ(u, b, E):\n",
    "    sval = 1 - vtot_dave(u)/E - (b*u)**2\n",
    "    #print(u,b,E,vtot(u)/E, b*u, sval)\n",
    "    if(sval >= 0):\n",
    "        integ = b/np.sqrt(sval)\n",
    "    else:\n",
    "        integ = 0\n",
    "    return integ\n",
    "\n",
    "def integ_out(u, b, E):\n",
    "    if(u <= 0):\n",
    "        sval = 0\n",
    "    else:\n",
    "        if(mR > 0):\n",
    "            sval = 3*alpha/mR**3 * (mR * np.cosh(mR) - np.sinh(mR)) * np.exp(-m_phi/u) * u\n",
    "        else:\n",
    "            sval = alpha * u\n",
    "    return b/np.sqrt(1 - sval/E - (b*u)**2)\n",
    "\n",
    "def integ_in(u, b, E):\n",
    "    if(u <= 0):\n",
    "        sval = 0\n",
    "    else:\n",
    "        if(mR > 0):\n",
    "            sval = 3*alpha/mR**3 * (m_phi - u*(1 + mR)/(1+1./np.tanh(mR)) * (np.sinh(m_phi/u)/np.sinh(mR)))\n",
    "        else:\n",
    "            sval = alpha/2 * (3/R - 1./(R**3 * u**2))\n",
    "    return b/np.sqrt(1 - sval/E - (b*u)**2)\n",
    "\n",
    "def minr_func(u,b,E):\n",
    "        return np.abs( 1 - (b*u)**2 - vtot(u)/E)\n",
    "\n",
    "for i, b in enumerate(bvec):\n",
    "    \n",
    "    min_un = minimize_scalar(minr_func, args=(b,E),bounds=(hbarc/1e3,hbarc/1e-3),method='bounded',options={'disp': 0, 'xatol': 1e-15})\n",
    "    min_u = min_un.x\n",
    "\n",
    "    ## split the integral into two pieces, to handle the diverging piece only over a small range\n",
    "    ## this substantially improves the performance of quad\n",
    "    int_res1 = quad(integ, min_u/1e7, min_u*0.9, args=(b,E)) #, limit=1000, full_output=1)\n",
    "    int_res2 = quad(integ, min_u*0.9, min_u, args=(b,E)) #, limit=1000, full_output=1)\n",
    "    int_res = int_res1[0] + int_res2[0]\n",
    "\n",
    "    ## now try to be smarter:\n",
    "    if( min_u < 1./R ):\n",
    "        int_res1_check = quad(integ_out, 0, min_u, args=(b,E))\n",
    "        int_res_check = int_res1_check[0]\n",
    "    else:\n",
    "        int_res1_check = quad(integ_out, 0, 1./R, args=(b,E))\n",
    "        int_res2_check = quad(integ_in, 1./R, min_u, args=(b,E))\n",
    "        int_res_check = int_res1_check[0] + int_res2_check[0]\n",
    "        \n",
    "    if( np.abs(int_res-int_res_check)/int_res > 1e-5 ): int_res = np.nan\n",
    "    Psi_dave[i] = int_res\n",
    "\n",
    "theta_dave = np.pi - 2 * Psi_dave\n",
    "\n",
    "# Just to reset the \"b\" variable to our vector...\n",
    "b = bvec"
   ]
  },
  {
   "cell_type": "code",
   "execution_count": 57,
   "metadata": {
    "scrolled": true
   },
   "outputs": [
    {
     "data": {
      "text/plain": [
       "Text(0, 0.5, '$\\\\Psi(b)$')"
      ]
     },
     "execution_count": 57,
     "metadata": {},
     "output_type": "execute_result"
    },
    {
     "data": {
      "image/png": "[encoded data removed]",
      "text/plain": [
       "<Figure size 432x288 with 1 Axes>"
      ]
     },
     "metadata": {
      "needs_background": "light"
     },
     "output_type": "display_data"
    }
   ],
   "source": [
    "# Thankfully they do agree...\n",
    "plt.plot(b*hbarc, theta)\n",
    "plt.plot(b*hbarc, theta_dave)\n",
    "\n",
    "plt.xlabel('b (um)')\n",
    "plt.ylabel(r'$\\Psi(b)$')"
   ]
  },
  {
   "cell_type": "code",
   "execution_count": 58,
   "metadata": {},
   "outputs": [
    {
     "data": {
      "text/plain": [
       "[<matplotlib.lines.Line2D at 0x2452f312ec0>]"
      ]
     },
     "execution_count": 58,
     "metadata": {},
     "output_type": "execute_result"
    },
    {
     "data": {
      "image/png": "[encoded data removed]",
      "text/plain": [
       "<Figure size 432x288 with 1 Axes>"
      ]
     },
     "metadata": {
      "needs_background": "light"
     },
     "output_type": "display_data"
    }
   ],
   "source": [
    "plt.plot(b, theta-theta_dave)"
   ]
  },
  {
   "cell_type": "markdown",
   "metadata": {},
   "source": [
    "## Differential rate"
   ]
  },
  {
   "cell_type": "code",
   "execution_count": null,
   "metadata": {},
   "outputs": [],
   "source": []
  }
 ],
 "metadata": {
  "kernelspec": {
   "display_name": "microspheres",
   "language": "python",
   "name": "microspheres"
  },
  "language_info": {
   "codemirror_mode": {
    "name": "ipython",
    "version": 3
   },
   "file_extension": ".py",
   "mimetype": "text/x-python",
   "name": "python",
   "nbconvert_exporter": "python",
   "pygments_lexer": "ipython3",
   "version": "3.10.2"
  }
 },
 "nbformat": 4,
 "nbformat_minor": 4
}
