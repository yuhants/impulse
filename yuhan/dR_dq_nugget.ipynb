{
 "cells": [
  {
   "cell_type": "code",
   "execution_count": 1,
   "metadata": {},
   "outputs": [],
   "source": [
    "import sys, os\n",
    "import numpy as np\n",
    "\n",
    "from scipy.optimize import minimize_scalar\n",
    "from scipy.integrate import quad\n",
    "import scipy.signal as sig\n",
    "from scipy.special import erf\n",
    "\n",
    "import matplotlib.pyplot as plt\n",
    "import matplotlib.colors as colors\n",
    "import matplotlib.cm as cmx"
   ]
  },
  {
   "cell_type": "markdown",
   "metadata": {},
   "source": [
    "*Note.* For concreteness, we calculate the differential rate $dR/dq$ for fixed DM mass, coupling, and mediator mass. In principle, the code could be more efficient by performing calculations for different values of DM mass and coupling at the same time. This requires a few straightforward generalization of the functions defined below, but might need to carefully deal with numerical artifacts."
   ]
  },
  {
   "cell_type": "markdown",
   "metadata": {},
   "source": [
    "## Parameters"
   ]
  },
  {
   "cell_type": "code",
   "execution_count": 2,
   "metadata": {},
   "outputs": [],
   "source": [
    "hbarc = 0.2     # eV um\n",
    "rho_T = 2.0e3   # Sphere density, kg/m^3\n",
    "mAMU = 1.66e-27 # Neutron mass"
   ]
  },
  {
   "cell_type": "markdown",
   "metadata": {},
   "source": [
    "### Experiment parameters"
   ]
  },
  {
   "cell_type": "code",
   "execution_count": 5,
   "metadata": {},
   "outputs": [],
   "source": [
    "R_um = 5          # Sphere radius, um\n",
    "R = R_um / hbarc  # Radius in natural units, eV^-1\n",
    "\n",
    "N_T = 0.5 * ( 4/3 * np.pi * (R_um*1e-6)**3) * rho_T/mAMU # Number of neutrons\n",
    "res = 170e6       # detector resolution in eV\n",
    "\n",
    "q_thr = 0.05e9    # momentum threshold, eV"
   ]
  },
  {
   "cell_type": "markdown",
   "metadata": {},
   "source": [
    "### DM parameters"
   ]
  },
  {
   "cell_type": "code",
   "execution_count": 6,
   "metadata": {},
   "outputs": [],
   "source": [
    "M_X_in = 5e3         # GeV\n",
    "alpha_n_in = 1e-8    # Gev\n",
    "m_phi = 0.0001      # Mediator mass, eV"
   ]
  },
  {
   "cell_type": "code",
   "execution_count": 7,
   "metadata": {},
   "outputs": [],
   "source": [
    "M_X = M_X_in * 1e9   # Dark matter nugget mass, eV (assumes mass in GeV given on command line)\n",
    "m_chi = 0.01 * 1e9   # eV\n",
    "N_chi = M_X / m_chi  # Number of dark matter particles in the nugget\n",
    "\n",
    "rhoDM = 0.3e9        # dark matter mass density, eV/cm^3\n",
    "\n",
    "alpha_n = alpha_n_in # Dimensionless single neutron-nugget \n",
    "alpha = alpha_n * N_T # Coupling of the entire sphere\n",
    "#mR = m_phi * R        # (= R/lambda), a useful length scale; now defiend in `vtot()`"
   ]
  },
  {
   "cell_type": "markdown",
   "metadata": {},
   "source": [
    "Some parameters related to DM velocity distribution."
   ]
  },
  {
   "cell_type": "code",
   "execution_count": 8,
   "metadata": {},
   "outputs": [],
   "source": [
    "vmin = 5e-5      # minimum velocity to consider, natural units (c)\n",
    "vesc = 1.815e-3  # galactic escape velocity\n",
    "v0 = 7.34e-4     # v0 parameter from Zurek group paper\n",
    "ve = 8.172e-4    # ve parameter from Zurek group paper"
   ]
  },
  {
   "cell_type": "markdown",
   "metadata": {},
   "source": [
    "## Defining functions"
   ]
  },
  {
   "cell_type": "markdown",
   "metadata": {},
   "source": [
    "### Yukawa potential"
   ]
  },
  {
   "cell_type": "code",
   "execution_count": 9,
   "metadata": {},
   "outputs": [],
   "source": [
    "def vtot(u, m_phi=m_phi, alpha=alpha):\n",
    "    \"\"\"Exact Yukawa potential for a uniform density sphere\n",
    "    \n",
    "    Parameters\n",
    "    ----------\n",
    "    u : float, array-like\n",
    "        Distance inverse 1/r in eV\n",
    "    m_phi : float\n",
    "        Mediator mass in eV\n",
    "    alpha : float\n",
    "        Dimensionless DM coupling to the sphere\n",
    "        \n",
    "    Returns\n",
    "    -------\n",
    "    float, array-like\n",
    "        Potential V(u) for each u in eV\n",
    "    \"\"\"\n",
    "    mR = m_phi * R\n",
    "    \n",
    "    u = np.asarray(u)\n",
    "    ret = np.empty_like(u)\n",
    "    \n",
    "    # Devide the array of u=1/r into three cases\n",
    "    neg     = (u <= 0)   # ill-defined\n",
    "    outside = (u < 1/R)  # ouside sphere\n",
    "    inside  = (u >= 1/R) # inside sphere\n",
    "    \n",
    "    ret[neg] = np.inf\n",
    "    \n",
    "    # TODO: double check the formula for form factor\n",
    "    if(mR > 0):   # massive mediator\n",
    "        ret[outside] = 3 * alpha/mR**3 * (mR * np.cosh(mR) - np.sinh(mR)) * np.exp(-m_phi/u[outside]) * u[outside]\n",
    "        ret[inside] = 3 * alpha/mR**3 * (m_phi - u[inside]*(1 + mR)/(1+1./np.tanh(mR)) * (np.sinh(m_phi/u[inside])/np.sinh(mR)))\n",
    "        \n",
    "    else:         # massless mediator (alpha/r)\n",
    "        ret[outside] = alpha * u[outside]\n",
    "        ret[inside] = alpha/2 * (3/R - 1./(R**3 * u[inside]**2))\n",
    "\n",
    "    return ret"
   ]
  },
  {
   "cell_type": "code",
   "execution_count": 10,
   "metadata": {},
   "outputs": [
    {
     "data": {
      "text/plain": [
       "Text(0, 0.5, 'v(r)')"
      ]
     },
     "execution_count": 10,
     "metadata": {},
     "output_type": "execute_result"
    },
    {
     "data": {
      "image/png": "[encoded data removed]",
      "text/plain": [
       "<Figure size 432x288 with 1 Axes>"
      ]
     },
     "metadata": {
      "needs_background": "light"
     },
     "output_type": "display_data"
    }
   ],
   "source": [
    "# Plotting the potential\n",
    "r_um = np.linspace(1e-8, 100, 200)\n",
    "r = r_um / hbarc # convert to eV\n",
    "\n",
    "plt.plot(r_um, vtot(1/r, m_phi=0), label='$m_\\phi$ = 0 $eV$')\n",
    "plt.plot(r_um, vtot(1/r, m_phi=0.001), label='$m_\\phi$ = 0.001 $eV$')\n",
    "plt.plot(r_um, vtot(1/r, m_phi=0.01), label='$m_\\phi$ = 0.01 $eV$')\n",
    "plt.plot(r_um, vtot(1/r, m_phi=0.1), label='$m_\\phi$ = 0.1 $eV$')\n",
    "\n",
    "plt.title(fr'$m_\\chi$ = {M_X_in} GeV, $\\alpha$ = {alpha:.2f}')\n",
    "plt.legend(frameon=False)\n",
    "plt.xlabel('r (um)')\n",
    "plt.ylabel('v(r)')"
   ]
  },
  {
   "cell_type": "markdown",
   "metadata": {},
   "source": [
    "### Scattering angle helper function\n",
    "To calculate the scattering angle $\\Theta$ as a function of DM energy $E$ and impact parameter $b$, we will use the following formula\n",
    "$$\n",
    "\\begin{aligned}\n",
    "    \\Psi(b) &= \\int_{r_\\text{min}}^\\infty \\frac{(b/r^2) dr}{\\sqrt{(1 - V(r)/E_\\text{cm} - b^2/r^2)}} \\\\\n",
    "              &= \\int_0^{u_\\text{max}} \\frac{b du}{\\sqrt{(1 - V(u)/E_\\text{cm} - b^2u^2)}},\n",
    "\\end{aligned}\n",
    "$$\n",
    "where $\\Psi$ is the change of angle when moving through the central force field and $E_\\text{cm}$ is the total energy in the CM frame (equals to DM kinetic energy).\n",
    "\n",
    "The scattering angle is\n",
    "$$\n",
    "    \\Theta(b) = \\pi - 2 \\cdot \\Psi(b).\n",
    "$$\n",
    "This is actually the scattering angle in the CM frame, but we assume the sphere is very heavy so it's the same as $\\theta$, the scattering angle in the lab frame."
   ]
  },
  {
   "cell_type": "code",
   "execution_count": 11,
   "metadata": {},
   "outputs": [],
   "source": [
    "def get_integrand(E, u, b):\n",
    "    \"\"\"Integrand for calculating scattering angle as a function of b\n",
    "    \n",
    "    Parameters\n",
    "    ----------\n",
    "    E : float, array-like\n",
    "        CM energy in eV\n",
    "    u : float, array-like\n",
    "        Distance inverse 1/r in eV\n",
    "    b : float, array-like\n",
    "        Impact parameter in eV^-1\n",
    "        \n",
    "    Returns\n",
    "    -------\n",
    "    float, m * n array\n",
    "        Integrand value. m = dim(E), n = dim(u), k = dim(b)\n",
    "    \"\"\"\n",
    "    # Thsi might be a little tricky to implement, so we'll see how it goes \n",
    "    pass"
   ]
  },
  {
   "cell_type": "code",
   "execution_count": 22,
   "metadata": {},
   "outputs": [],
   "source": [
    "#### BELOW TO BE ORGANIZED\n",
    "## integrand needed for finding the scattering angle as a function of impact parameter\n",
    "def integ(u, b, E):\n",
    "\n",
    "    sval = 1 - vtot(u)/E - (b*u)**2\n",
    "    #print(u,b,E,vtot(u)/E, b*u, sval)\n",
    "    if(sval >= 0):\n",
    "        integ = b/np.sqrt(sval)\n",
    "    else:\n",
    "        integ = 0\n",
    "    return integ\n",
    "\n",
    "def integ_out(u, b, E):\n",
    "    if(u <= 0):\n",
    "        sval = 0\n",
    "    else:\n",
    "        if(mR > 0):\n",
    "            sval = 3*alpha/mR**3 * (mR * np.cosh(mR) - np.sinh(mR)) * np.exp(-m_phi/u) * u\n",
    "        else:\n",
    "            sval = alpha * u\n",
    "    return b/np.sqrt(1 - sval/E - (b*u)**2)\n",
    "\n",
    "def integ_in(u, b, E):\n",
    "    if(u <= 0):\n",
    "        sval = 0\n",
    "    else:\n",
    "        if(mR > 0):\n",
    "            sval = 3*alpha/mR**3 * (m_phi - u*(1 + mR)/(1+1./np.tanh(mR)) * (np.sinh(m_phi/u)/np.sinh(mR)))\n",
    "        else:\n",
    "            sval = alpha/2 * (3/R - 1./(R**3 * u**2))\n",
    "    return b/np.sqrt(1 - sval/E - (b*u)**2)"
   ]
  },
  {
   "cell_type": "markdown",
   "metadata": {},
   "source": [
    "### Other functions"
   ]
  },
  {
   "cell_type": "code",
   "execution_count": 12,
   "metadata": {},
   "outputs": [],
   "source": [
    "def max_u_exact(E, b, m_phi=m_phi, alpha=alpha):\n",
    "    \"\"\"Exact value of maximum u (minimum r) during the scattering\n",
    "    \n",
    "    Parameters\n",
    "    ----------\n",
    "    E : float, array-like\n",
    "        CM energy in eV\n",
    "    b : float, array-like\n",
    "        Impact parameter in eV^-1\n",
    "        \n",
    "    Returns\n",
    "    -------\n",
    "    m * n array\n",
    "        Max u value. m = dim(E), n = dim(b)\n",
    "    \"\"\"\n",
    "    mR = m_phi * R\n",
    "    \n",
    "    E, b = np.asarray(E), np.asarray(b)\n",
    "    EE, bb = np.meshgrid(E, b)\n",
    "    \n",
    "    min_r = np.empty_like(EE)\n",
    "    \n",
    "    inside  = (bb < R)\n",
    "    outside = (bb >= R)\n",
    "    \n",
    "    # TODO\n",
    "    # It seems like the formula breaks down when E is relatively small\n",
    "    # Might want to deal with the issue here\n",
    "    if mR > 0:  # massive mediator\n",
    "        min_r[inside]  = bb[inside] * np.sqrt(EE[inside]) / np.sqrt(EE[inside] - ((3*alpha)/(mR**3)*(m_phi - ((1 + mR)*np.sinh(m_phi*bb[inside])/np.sinh(mR))/(bb[inside]*(1+1/np.tanh(mR))))))\n",
    "        min_r[outside] = bb[outside] * np.sqrt(EE[outside])/np.sqrt(EE[outside] - (3*alpha*np.exp(-m_phi*bb[outside]))/(bb[outside] * mR**3) * (mR*np.cosh(mR)-np.sinh(mR)))\n",
    "    else:       # massless mediator TODO\n",
    "        pass\n",
    "    \n",
    "    return 1./min_r"
   ]
  },
  {
   "cell_type": "markdown",
   "metadata": {},
   "source": [
    "### Other functions (not organized yet)"
   ]
  },
  {
   "cell_type": "code",
   "execution_count": 14,
   "metadata": {},
   "outputs": [],
   "source": [
    "## function to numerically find the maximum value of u = 1/r, not used currently\n",
    "def minr_func(u,b,E):\n",
    "    return np.abs( 1 - (b*u)**2 - vtot(u)/E)\n",
    "\n",
    "#  analyitical formula for finding the maximum value of u = 1/r\n",
    "def min_u_exact(b, E):\n",
    "    if b < R:\n",
    "        outval = b*np.sqrt(E)/np.sqrt(E - ((3*alpha)/(mR**3)*(m_phi - ((1 + mR)*np.sinh(m_phi*b)/np.sinh(mR))/(b*(1+1/np.tanh(mR))))))\n",
    "    else:\n",
    "        outval = b*np.sqrt(E)/np.sqrt(E - (3*alpha*np.exp(-m_phi*b))/(b * mR**3) * (mR*np.cosh(mR)-np.sinh(mR)))\n",
    "    return 1./outval\n",
    "\n",
    "def get_color_map(n):\n",
    "    jet = plt.get_cmap('jet') \n",
    "    cNorm  = colors.Normalize(vmin=0, vmax=n-1)\n",
    "    scalarMap = cmx.ScalarMappable(norm=cNorm, cmap=jet)\n",
    "    outmap = []\n",
    "    for i in range(n):\n",
    "        outmap.append( scalarMap.to_rgba(i) )\n",
    "    return outmap\n",
    "\n",
    "## function used to smear the spectrum with gaussian resolution\n",
    "def res_fun( x, sig ):\n",
    "    return 1.0/(sig * np.sqrt(2*np.pi)) * np.exp(-0.5*(x/sig)**2)"
   ]
  },
  {
   "cell_type": "markdown",
   "metadata": {},
   "source": [
    "## Calculate the differential cross section $\\frac{d\\sigma}{dq}$\n",
    "Possible ways to vectorize the numerical integration:\n",
    "`scipy.integrate.quad_vec()`.\n",
    "see https://stackoverflow.com/questions/32539106/vectorize-scipy-integrate-quad"
   ]
  },
  {
   "cell_type": "code",
   "execution_count": 17,
   "metadata": {},
   "outputs": [],
   "source": [
    "nvels = 100      # number of velocities to include in integration\n",
    "v = np.linspace(vmin, vesc, nvels)\n",
    "pmax = np.max((vesc * M_X, 10e9))\n",
    "cmap = get_color_map(nvels)\n",
    "\n",
    "# make a list of impact parameters over which to calculate the scattering angle\n",
    "if(m_phi > 0):\n",
    "    b_um = np.logspace(-3, 3, 2000)\n",
    "else:\n",
    "    b_um = np.logspace(-3, 5, 2000)"
   ]
  },
  {
   "cell_type": "code",
   "execution_count": 26,
   "metadata": {},
   "outputs": [],
   "source": [
    "p = M_X * v            # DM initial momentum (eV), 1*dim(v) array\n",
    "E = 1./2 * M_X * v**2  # Initial kinetic energy of incoming particle, 1*dim(v) array\n",
    "\n",
    "b = b_um / hbarc       # Impact factor (eV^-1)"
   ]
  },
  {
   "cell_type": "code",
   "execution_count": 19,
   "metadata": {
    "scrolled": true
   },
   "outputs": [
    {
     "name": "stderr",
     "output_type": "stream",
     "text": [
      "C:\\Users\\yuhan\\AppData\\Local\\Temp\\ipykernel_9244\\1568089994.py:30: RuntimeWarning: invalid value encountered in sqrt\n",
      "  min_r[inside]  = bb[inside] * np.sqrt(EE[inside]) / np.sqrt(EE[inside] - ((3*alpha)/(mR**3)*(m_phi - ((1 + mR)*np.sinh(m_phi*bb[inside])/np.sinh(mR))/(bb[inside]*(1+1/np.tanh(mR))))))\n",
      "C:\\Users\\yuhan\\AppData\\Local\\Temp\\ipykernel_9244\\1568089994.py:31: RuntimeWarning: invalid value encountered in sqrt\n",
      "  min_r[outside] = bb[outside] * np.sqrt(EE[outside])/np.sqrt(EE[outside] - (3*alpha*np.exp(-m_phi*bb[outside]))/(bb[outside] * mR**3) * (mR*np.cosh(mR)-np.sinh(mR)))\n"
     ]
    }
   ],
   "source": [
    "# Distance of shortest approach (maximum u)\n",
    "# For some b's, the analytic formula breaks down at the first 13 small velocities\n",
    "# I think we can just throw them away\n",
    "max_u = max_u_exact(E, b)"
   ]
  },
  {
   "cell_type": "markdown",
   "metadata": {},
   "source": [
    "Now do numerical integration to find the scattering angle"
   ]
  },
  {
   "cell_type": "code",
   "execution_count": 21,
   "metadata": {},
   "outputs": [
    {
     "data": {
      "text/plain": [
       "array([         nan,          nan,          nan,          nan,\n",
       "                nan,          nan,          nan,          nan,\n",
       "                nan,          nan,          nan,          nan,\n",
       "                nan,  43.8590745 ,  79.50134154,  99.98736628,\n",
       "       114.47102675, 125.50388769, 134.26208244, 141.40581691,\n",
       "       147.34843478, 152.36744358, 156.65845784, 160.36443371,\n",
       "       163.5928045 , 166.42613467, 168.92905527, 171.15294798,\n",
       "       173.13920555, 174.92155908, 176.52777517, 177.9809165 ,\n",
       "       179.30029325, 180.50219138, 181.6004371 , 182.60683936,\n",
       "       183.53154016, 184.38329448, 185.16969587, 185.89735961,\n",
       "       186.57207246, 187.19891596, 187.78236851, 188.3263904 ,\n",
       "       188.83449496, 189.30980851, 189.75512091, 190.17292859,\n",
       "       190.56547116, 190.93476279, 191.28261914, 191.61068061,\n",
       "       191.92043236, 192.21322183, 192.49027381, 192.7527038 ,\n",
       "       193.00152948, 193.23768098, 193.46200976, 193.67529656,\n",
       "       193.87825834, 194.07155449, 194.2557923 , 194.43153186,\n",
       "       194.59929043, 194.7595463 , 194.9127423 , 195.05928892,\n",
       "       195.19956712, 195.33393083, 195.46270926, 195.58620893,\n",
       "       195.70471555, 195.81849568, 195.92779824, 196.03285596,\n",
       "       196.13388656, 196.23109394, 196.32466922, 196.41479167,\n",
       "       196.50162963, 196.58534125, 196.66607524, 196.74397158,\n",
       "       196.81916207, 196.89177093, 196.96191532, 197.0297058 ,\n",
       "       197.0952468 , 197.15863698, 197.21996968, 197.27933317,\n",
       "       197.33681106, 197.39248256, 197.44642272, 197.49870276,\n",
       "       197.54939026, 197.59854938, 197.64624107, 197.69252328])"
      ]
     },
     "execution_count": 21,
     "metadata": {},
     "output_type": "execute_result"
    }
   ],
   "source": [
    "max_u[0]"
   ]
  },
  {
   "cell_type": "code",
   "execution_count": 23,
   "metadata": {},
   "outputs": [
    {
     "data": {
      "text/plain": [
       "array([5.00000000e-03, 5.03467574e-03, 5.06959197e-03, ...,\n",
       "       4.93136335e+03, 4.96556308e+03, 5.00000000e+03])"
      ]
     },
     "execution_count": 23,
     "metadata": {},
     "output_type": "execute_result"
    }
   ],
   "source": [
    "b"
   ]
  },
  {
   "cell_type": "code",
   "execution_count": null,
   "metadata": {},
   "outputs": [],
   "source": []
  },
  {
   "cell_type": "code",
   "execution_count": 27,
   "metadata": {},
   "outputs": [
    {
     "name": "stdout",
     "output_type": "stream",
     "text": [
      "0.005 6250.0\n",
      "0.005 11501.68987858382\n",
      "0.005 18342.61810019386\n",
      "0.005 26772.78466483013\n",
      "0.005034675742081855 6250.0\n",
      "0.005034675742081855 11501.68987858382\n",
      "0.005034675742081855 18342.61810019386\n",
      "0.005034675742081855 26772.78466483013\n",
      "0.005069591965581496 6250.0\n",
      "0.005069591965581496 11501.68987858382\n",
      "0.005069591965581496 18342.61810019386\n",
      "0.005069591965581496 26772.78466483013\n",
      "0.005104750338273245 6250.0\n",
      "0.005104750338273245 11501.68987858382\n",
      "0.005104750338273245 18342.61810019386\n",
      "0.005104750338273245 26772.78466483013\n"
     ]
    }
   ],
   "source": [
    "for b_ in b[0:4]:\n",
    "    for E_ in E[0:4]:\n",
    "        print(b_, E_)"
   ]
  },
  {
   "cell_type": "code",
   "execution_count": null,
   "metadata": {},
   "outputs": [],
   "source": [
    "## split the integral into two pieces, to handle the diverging piece only over a small range\n",
    "## this substantially improves the performance of quad\n",
    "int_res1 = quad(integ, min_u/1e7, min_u*0.9, args=(b,E)) #, limit=1000, full_output=1)\n",
    "int_res2 = quad(integ, min_u*0.9, min_u, args=(b,E)) #, limit=1000, full_output=1)\n",
    "int_res = int_res1[0] + int_res2[0]"
   ]
  }
 ],
 "metadata": {
  "kernelspec": {
   "display_name": "microspheres",
   "language": "python",
   "name": "microspheres"
  },
  "language_info": {
   "codemirror_mode": {
    "name": "ipython",
    "version": 3
   },
   "file_extension": ".py",
   "mimetype": "text/x-python",
   "name": "python",
   "nbconvert_exporter": "python",
   "pygments_lexer": "ipython3",
   "version": "3.10.2"
  }
 },
 "nbformat": 4,
 "nbformat_minor": 4
}
