{
 "cells": [
  {
   "cell_type": "markdown",
   "metadata": {},
   "source": [
    "This notebook calculates the dark matter impulse differential rate $dR/dq$ for the case of massless mediator."
   ]
  },
  {
   "cell_type": "code",
   "execution_count": 1,
   "metadata": {},
   "outputs": [],
   "source": [
    "import sys, os\n",
    "\n",
    "import numpy as np\n",
    "from scipy.special import erf\n",
    "\n",
    "import matplotlib.pyplot as plt"
   ]
  },
  {
   "cell_type": "markdown",
   "metadata": {},
   "source": [
    "## Parameters"
   ]
  },
  {
   "cell_type": "code",
   "execution_count": 2,
   "metadata": {},
   "outputs": [],
   "source": [
    "hbarc = 0.2     # eV um\n",
    "rho_T = 2.0e3   # Sphere density, kg/m^3\n",
    "mAMU = 1.66e-27 # Neutron mass"
   ]
  },
  {
   "cell_type": "code",
   "execution_count": 3,
   "metadata": {},
   "outputs": [],
   "source": [
    "R_um = 5          # Sphere radius, um\n",
    "R = R_um / hbarc  # Radius in natural units, eV^-1\n",
    "\n",
    "N_T = 0.5 * ( 4/3 * np.pi * (R_um*1e-6)**3) * rho_T/mAMU # Number of neutrons\n",
    "res = 170e6       # detector resolution in eV\n",
    "\n",
    "q_thr = 0.05e9    # momentum threshold, eV"
   ]
  },
  {
   "cell_type": "markdown",
   "metadata": {},
   "source": [
    "DM parameters"
   ]
  },
  {
   "cell_type": "code",
   "execution_count": 4,
   "metadata": {},
   "outputs": [],
   "source": [
    "M_X_in = 5e3         # GeV\n",
    "alpha_n_in = 1e-8    # Gev\n",
    "m_phi = 0            # Mediator mass, eV"
   ]
  },
  {
   "cell_type": "code",
   "execution_count": 5,
   "metadata": {},
   "outputs": [],
   "source": [
    "M_X = M_X_in * 1e9   # Dark matter nugget mass, eV (assumes mass in GeV given on command line)\n",
    "m_chi = 0.01 * 1e9   # eV\n",
    "N_chi = M_X / m_chi  # Number of dark matter particles in the nugget\n",
    "\n",
    "rhoDM = 0.3e9        # dark matter mass density, eV/cm^3\n",
    "mR = m_phi * R        # (= R/lambda), a useful length scale; now defiend in `vtot()`\n",
    "\n",
    "alpha_n = alpha_n_in # Dimensionless single neutron-nugget coupling\n",
    "alpha = alpha_n * N_T # Coupling of the entire sphere"
   ]
  },
  {
   "cell_type": "markdown",
   "metadata": {},
   "source": [
    "Some parameters related to DM velocity distribution."
   ]
  },
  {
   "cell_type": "code",
   "execution_count": 6,
   "metadata": {},
   "outputs": [],
   "source": [
    "vmin = 5e-5      # minimum velocity to consider, natural units (c)\n",
    "vesc = 1.815e-3  # galactic escape velocity\n",
    "v0 = 7.34e-4     # v0 parameter from Zurek group paper\n",
    "ve = 8.172e-4    # ve parameter from Zurek group paper"
   ]
  },
  {
   "cell_type": "markdown",
   "metadata": {},
   "source": [
    "## DM velocity distribution $f(v)$\n",
    "There are two choices for velocity distribution:\n",
    "\n",
    "1.\n",
    "https://arxiv.org/pdf/1812.07573.pdf .\n",
    "See Eq. (32) and (33) of the paper. Note there is a typo in the sign of the exponential.\n",
    "2. Standard halo model, which is a truncated Maxwell distribution.\n",
    "\n",
    "We will just use the standard halo model for calculation considering a generic composite DM."
   ]
  },
  {
   "cell_type": "code",
   "execution_count": 7,
   "metadata": {},
   "outputs": [],
   "source": [
    "def f_halo(v):\n",
    "    \"\"\"\n",
    "    DM velocity distribution in the Earth frame\n",
    "    \n",
    "    :param v: input velocity (array-like)\n",
    "    :return: velocity distribtuion (array-like)\n",
    "    \"\"\"\n",
    "    N0 = np.pi**1.5 * v0**3 * ( erf(vesc/v0) - 2/np.sqrt(np.pi) * (vesc/v0) * np.exp(-(vesc/v0)**2))\n",
    "    \n",
    "    # v < (vesc - ve)\n",
    "    f1 = np.exp( - (v+ve)**2 / v0**2 ) * (np.exp(4*v*ve / v0**2) - 1)\n",
    "    # (vesc - ve) < v < (vesc + ve)\n",
    "    f2 = np.exp( - (v-ve)**2 / v0**2 ) - np.exp(- vesc**2 / v0**2)\n",
    "\n",
    "    f = np.zeros_like(v)\n",
    "    g1 = v < (vesc - ve)\n",
    "    g2 = np.logical_and( vesc-ve < v, v < vesc + ve)\n",
    "    \n",
    "    f[g1] = f1[g1]\n",
    "    f[g2] = f2[g2]\n",
    "\n",
    "    return f * np.pi * v * v0**2 / (N0 * ve)\n",
    "\n",
    "def f_halo_dan(v):\n",
    "    \"\"\"\n",
    "    I think this is the 1-D standard halo model but need to double check.\n",
    "    See Eq. (2) of https://link.aps.org/doi/10.1103/PhysRevD.42.3572\n",
    "    \"\"\"\n",
    "    N0 = np.pi**1.5 * v0**3 * ( erf(vesc/v0) - 2/np.sqrt(np.pi) * (vesc/v0) * np.exp(-(vesc/v0)**2))\n",
    "    return 4 * np.pi * v**2 * np.exp(-v**2 / v0**2) / N0"
   ]
  },
  {
   "cell_type": "code",
   "execution_count": 8,
   "metadata": {
    "scrolled": true
   },
   "outputs": [
    {
     "data": {
      "image/png": "[encoded data removed]",
      "text/plain": [
       "<Figure size 432x288 with 1 Axes>"
      ]
     },
     "metadata": {
      "needs_background": "light"
     },
     "output_type": "display_data"
    }
   ],
   "source": [
    "# Plot the DM velocity distribution\n",
    "nvels = 2000\n",
    "vels = np.linspace(vmin, vesc + ve, nvels)\n",
    "vels_shm = np.linspace(vmin, vesc, nvels)\n",
    "\n",
    "plt.figure()\n",
    "plt.plot(vels/vesc, f_halo(vels), label='Nugget (Coskuner+\\'18)')\n",
    "plt.plot(vels_shm/vesc, f_halo_dan(vels_shm), label='Standard Halo Model')\n",
    "\n",
    "plt.title(f'Velocity distribution, integral = {np.trapz(f_halo_dan(vels), vels):.2f}')\n",
    "plt.legend(frameon=False)\n",
    "plt.xlabel('Velocity (v/vesc)')\n",
    "plt.ylabel('f(v)')\n",
    "plt.show()"
   ]
  },
  {
   "cell_type": "markdown",
   "metadata": {},
   "source": [
    "## DM scattering rate"
   ]
  },
  {
   "cell_type": "markdown",
   "metadata": {},
   "source": [
    "The scattering cross section for point-like Yukawa potential $V(r) = (\\alpha/r) e^{- m_\\phi r}$ is given by (in the Born approximation)\n",
    "\n",
    "$$\n",
    "\\begin{equation}\n",
    "\\begin{aligned}\n",
    "    \\frac{d\\sigma}{d \\Omega} \n",
    "    &= \\frac{ 4 m^2 \\alpha^2}{ (m^2_\\phi + q^2)^2 }, \\\\\n",
    "    &= \\frac{4 m^2 \\alpha^2}{ (m^2_\\phi + 4 p^2 \\sin^2 \\theta /2 )^2}.\n",
    "\\end{aligned}\n",
    "\\end{equation}\n",
    "$$\n",
    "\n",
    "For the massless mediator case this is the exact Rutherford cross section. In this analysis we will cut off events with momentum transfer below the detection threshold and events happen inside the sphere, which deliver momentum transfers above some maximum value."
   ]
  },
  {
   "cell_type": "code",
   "execution_count": 9,
   "metadata": {},
   "outputs": [],
   "source": [
    "def dsig_domega_born(mx, mphi, alpha, q, point_charge):\n",
    "    point_charge_sol = (4 * (mx**2) * (alpha**2) ) / ( (mphi**2 + q**2)**2 )\n",
    "    if point_charge:\n",
    "        return point_charge_sol\n",
    "    else:\n",
    "        form_factor = 3 * spherical_jn(n=1, z=q*R) / (q * R)\n",
    "        return point_charge_sol * form_factor**2"
   ]
  },
  {
   "cell_type": "code",
   "execution_count": 10,
   "metadata": {},
   "outputs": [],
   "source": [
    "q = np.logspace(5, 10, 1000)\n",
    "dsigdomega = dsig_domega_born(M_X, m_phi, alpha, q, point_charge=True)"
   ]
  },
  {
   "cell_type": "code",
   "execution_count": 11,
   "metadata": {
    "scrolled": true
   },
   "outputs": [
    {
     "data": {
      "text/plain": [
       "Text(0, 0.5, '$d \\\\sigma / d \\\\Omega$')"
      ]
     },
     "execution_count": 11,
     "metadata": {},
     "output_type": "execute_result"
    },
    {
     "data": {
      "image/png": "[encoded data removed]",
      "text/plain": [
       "<Figure size 432x288 with 1 Axes>"
      ]
     },
     "metadata": {
      "needs_background": "light"
     },
     "output_type": "display_data"
    }
   ],
   "source": [
    "# Expect Rutherford cross section ~ 1 / (q^4)\n",
    "plt.plot(q/1e9, dsigdomega)\n",
    "plt.xscale('log')\n",
    "plt.xlabel('q (GeV)')\n",
    "plt.ylabel('$d \\sigma / d \\Omega$')"
   ]
  },
  {
   "cell_type": "markdown",
   "metadata": {},
   "source": [
    "Integrate over phase space for event rate $dR /dq$.\n",
    "\n",
    "Convert to $d\\sigma / dq$ by \n",
    "\\begin{equation}\n",
    "    \\frac{d \\sigma}{d q} = \\frac{2 \\pi q}{p^2} \\frac{d \\sigma}{d \\Omega}.\n",
    "\\end{equation}"
   ]
  },
  {
   "cell_type": "code",
   "execution_count": 12,
   "metadata": {},
   "outputs": [],
   "source": [
    "def dsig_dq(dsigdomega, mx, alpha, q, vlist, q_thr):\n",
    "\n",
    "    ss = np.empty(shape=(vlist.size, q.size))\n",
    "\n",
    "    for i, v in enumerate(vlist):\n",
    "        p = mx * v\n",
    "        dsigdq = ( 2 * np.pi * q / (p**2) ) * dsigdomega\n",
    "\n",
    "        # Cut off contribution below detection threshold\n",
    "        dsigdq[q < q_thr] = 0\n",
    "\n",
    "        Ecm = 0.5 * mx * v**2\n",
    "\n",
    "        # Events outside of sphere only\n",
    "        bmin = 5e-4 / hbarc # 5 um radius\n",
    "        qmax = 2 * mx * v / np.sqrt(4 * Ecm**2 * bmin**2 / alpha**2 + 1)\n",
    "        dsigdq[q > qmax] = 0\n",
    "\n",
    "        # Account for vmin at a given q\n",
    "        dsigdq[q > 2 * mx * v] = 0\n",
    "        \n",
    "        ss[i] = dsigdq\n",
    "        \n",
    "    return ss"
   ]
  },
  {
   "cell_type": "code",
   "execution_count": null,
   "metadata": {},
   "outputs": [],
   "source": []
  },
  {
   "cell_type": "code",
   "execution_count": 14,
   "metadata": {},
   "outputs": [],
   "source": [
    "nvels = 2000\n",
    "vlist = np.linspace(vmin, vesc, nvels)\n",
    "\n",
    "dsdq = dsig_dq(dsigdomega, M_X, alpha, q, vlist, q_thr)\n",
    "\n",
    "int_vec = rhoDM / M_X * vlist * f_halo(vlist)\n",
    "\n",
    "drdq = np.empty_like(q)\n",
    "for i in range(q.size):\n",
    "    drdq[i] = np.trapz( int_vec * dsdq.T[i], x=vlist )"
   ]
  },
  {
   "cell_type": "code",
   "execution_count": 15,
   "metadata": {
    "scrolled": false
   },
   "outputs": [
    {
     "data": {
      "text/plain": [
       "Text(0, 0.5, 'dR/dq (counts / hr / GeV)')"
      ]
     },
     "execution_count": 15,
     "metadata": {},
     "output_type": "execute_result"
    },
    {
     "data": {
      "image/png": "[encoded data removed]",
      "text/plain": [
       "<Figure size 432x288 with 1 Axes>"
      ]
     },
     "metadata": {
      "needs_background": "light"
     },
     "output_type": "display_data"
    }
   ],
   "source": [
    "conv_fac = hbarc**2 * 1e9 * 3e10 * 1e-8 * 3600  # natural units -> um^2/GeV, c [cm/s], um^2/cm^2, s/hr\n",
    "\n",
    "plt.plot(q/1e9, drdq * conv_fac)\n",
    "plt.xlabel('Momentum transfer (GeV)')\n",
    "plt.ylabel('dR/dq (counts / hr / GeV)')"
   ]
  },
  {
   "cell_type": "markdown",
   "metadata": {},
   "source": [
    "Now generalize to arbitrary DM mass and coupling."
   ]
  },
  {
   "cell_type": "code",
   "execution_count": 16,
   "metadata": {},
   "outputs": [],
   "source": [
    "def dR_dq(mx, mphi, alpha, q, vlist, q_thr):\n",
    "    # Differential cross section\n",
    "    dsigdomega = dsig_domega_born(mx, mphi, alpha, q, point_charge=True)\n",
    "    dsigdq = dsig_dq(dsigdomega, mx, alpha, q, vlist, q_thr)\n",
    "        \n",
    "    int_vec = rhoDM / mx * vlist * f_halo_dan(vlist)\n",
    "    \n",
    "    drdq = np.empty_like(q)\n",
    "    for i in range(q.size):\n",
    "        drdq[i] = np.trapz( int_vec * dsigdq.T[i], x=vlist )\n",
    "        \n",
    "    conv_fac = hbarc**2 * 1e9 * 3e10 * 1e-8 * 3600  # natural units -> um^2/GeV, c [cm/s], um^2/cm^2, s/hr\n",
    "    \n",
    "    # Counts/hour/GeV\n",
    "    return drdq * conv_fac"
   ]
  },
  {
   "cell_type": "code",
   "execution_count": 17,
   "metadata": {},
   "outputs": [],
   "source": [
    "q = np.logspace(5, 10, 1000) # eV\n",
    "\n",
    "nvels = 2000\n",
    "vlist = np.linspace(vmin, vesc, nvels)"
   ]
  },
  {
   "cell_type": "code",
   "execution_count": 19,
   "metadata": {},
   "outputs": [
    {
     "name": "stdout",
     "output_type": "stream",
     "text": [
      "Total number of events: 0.000\n"
     ]
    },
    {
     "data": {
      "image/png": "[encoded data removed]",
      "text/plain": [
       "<Figure size 432x288 with 1 Axes>"
      ]
     },
     "metadata": {
      "needs_background": "light"
     },
     "output_type": "display_data"
    }
   ],
   "source": [
    "q_thr = 0.15e9\n",
    "drdq = dR_dq(1e12*1e9, 0, 0.01*alpha/(4*np.pi), q, vlist, q_thr)\n",
    "\n",
    "drdq = dR_dq(1e21, 0, 100, q, vlist, q_thr)\n",
    "\n",
    "\n",
    "plt.plot(q/1e9, drdq)\n",
    "plt.xscale('log')\n",
    "plt.xlabel('$q$ (GeV)')\n",
    "plt.ylabel('dR/dq (counts / hr / GeV)')\n",
    "\n",
    "print( f'Total number of events: {np.trapz(drdq, q/1e9):.3f}' )"
   ]
  },
  {
   "cell_type": "code",
   "execution_count": null,
   "metadata": {},
   "outputs": [],
   "source": []
  }
 ],
 "metadata": {
  "kernelspec": {
   "display_name": "Python 3 (ipykernel)",
   "language": "python",
   "name": "python3"
  },
  "language_info": {
   "codemirror_mode": {
    "name": "ipython",
    "version": 3
   },
   "file_extension": ".py",
   "mimetype": "text/x-python",
   "name": "python",
   "nbconvert_exporter": "python",
   "pygments_lexer": "ipython3",
   "version": "3.11.0"
  }
 },
 "nbformat": 4,
 "nbformat_minor": 4
}
